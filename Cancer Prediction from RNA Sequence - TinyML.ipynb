{
 "cells": [
  {
   "cell_type": "markdown",
   "id": "b9c46e3b",
   "metadata": {
    "papermill": {
     "duration": 0.009427,
     "end_time": "2025-03-31T12:43:14.807386",
     "exception": false,
     "start_time": "2025-03-31T12:43:14.797959",
     "status": "completed"
    },
    "tags": []
   },
   "source": [
    "# **Importing Data**\n",
    "---"
   ]
  },
  {
   "cell_type": "markdown",
   "id": "1633976f",
   "metadata": {
    "papermill": {
     "duration": 0.008022,
     "end_time": "2025-03-31T12:43:15.901385",
     "exception": false,
     "start_time": "2025-03-31T12:43:15.893363",
     "status": "completed"
    },
    "tags": []
   },
   "source": [
    "- **Reading files**"
   ]
  },
  {
   "cell_type": "code",
   "execution_count": 1,
   "id": "49a51c29",
   "metadata": {
    "execution": {
     "iopub.execute_input": "2025-03-31T12:43:15.919031Z",
     "iopub.status.busy": "2025-03-31T12:43:15.918535Z",
     "iopub.status.idle": "2025-03-31T12:43:25.400902Z",
     "shell.execute_reply": "2025-03-31T12:43:25.399787Z"
    },
    "papermill": {
     "duration": 9.49295,
     "end_time": "2025-03-31T12:43:25.402522",
     "exception": false,
     "start_time": "2025-03-31T12:43:15.909572",
     "status": "completed"
    },
    "tags": []
   },
   "outputs": [
    {
     "data": {
      "text/html": [
       "<div>\n",
       "<style scoped>\n",
       "    .dataframe tbody tr th:only-of-type {\n",
       "        vertical-align: middle;\n",
       "    }\n",
       "\n",
       "    .dataframe tbody tr th {\n",
       "        vertical-align: top;\n",
       "    }\n",
       "\n",
       "    .dataframe thead th {\n",
       "        text-align: right;\n",
       "    }\n",
       "</style>\n",
       "<table border=\"1\" class=\"dataframe\">\n",
       "  <thead>\n",
       "    <tr style=\"text-align: right;\">\n",
       "      <th></th>\n",
       "      <th>Unnamed: 0</th>\n",
       "      <th>gene_0</th>\n",
       "      <th>gene_1</th>\n",
       "      <th>gene_2</th>\n",
       "      <th>gene_3</th>\n",
       "      <th>gene_4</th>\n",
       "      <th>gene_5</th>\n",
       "      <th>gene_6</th>\n",
       "      <th>gene_7</th>\n",
       "      <th>gene_8</th>\n",
       "      <th>...</th>\n",
       "      <th>gene_20521</th>\n",
       "      <th>gene_20522</th>\n",
       "      <th>gene_20523</th>\n",
       "      <th>gene_20524</th>\n",
       "      <th>gene_20525</th>\n",
       "      <th>gene_20526</th>\n",
       "      <th>gene_20527</th>\n",
       "      <th>gene_20528</th>\n",
       "      <th>gene_20529</th>\n",
       "      <th>gene_20530</th>\n",
       "    </tr>\n",
       "  </thead>\n",
       "  <tbody>\n",
       "    <tr>\n",
       "      <th>0</th>\n",
       "      <td>sample_0</td>\n",
       "      <td>0.0</td>\n",
       "      <td>2.017209</td>\n",
       "      <td>3.265527</td>\n",
       "      <td>5.478487</td>\n",
       "      <td>10.431999</td>\n",
       "      <td>0.0</td>\n",
       "      <td>7.175175</td>\n",
       "      <td>0.591871</td>\n",
       "      <td>0.0</td>\n",
       "      <td>...</td>\n",
       "      <td>4.926711</td>\n",
       "      <td>8.210257</td>\n",
       "      <td>9.723516</td>\n",
       "      <td>7.220030</td>\n",
       "      <td>9.119813</td>\n",
       "      <td>12.003135</td>\n",
       "      <td>9.650743</td>\n",
       "      <td>8.921326</td>\n",
       "      <td>5.286759</td>\n",
       "      <td>0.0</td>\n",
       "    </tr>\n",
       "    <tr>\n",
       "      <th>1</th>\n",
       "      <td>sample_1</td>\n",
       "      <td>0.0</td>\n",
       "      <td>0.592732</td>\n",
       "      <td>1.588421</td>\n",
       "      <td>7.586157</td>\n",
       "      <td>9.623011</td>\n",
       "      <td>0.0</td>\n",
       "      <td>6.816049</td>\n",
       "      <td>0.000000</td>\n",
       "      <td>0.0</td>\n",
       "      <td>...</td>\n",
       "      <td>4.593372</td>\n",
       "      <td>7.323865</td>\n",
       "      <td>9.740931</td>\n",
       "      <td>6.256586</td>\n",
       "      <td>8.381612</td>\n",
       "      <td>12.674552</td>\n",
       "      <td>10.517059</td>\n",
       "      <td>9.397854</td>\n",
       "      <td>2.094168</td>\n",
       "      <td>0.0</td>\n",
       "    </tr>\n",
       "    <tr>\n",
       "      <th>2</th>\n",
       "      <td>sample_2</td>\n",
       "      <td>0.0</td>\n",
       "      <td>3.511759</td>\n",
       "      <td>4.327199</td>\n",
       "      <td>6.881787</td>\n",
       "      <td>9.870730</td>\n",
       "      <td>0.0</td>\n",
       "      <td>6.972130</td>\n",
       "      <td>0.452595</td>\n",
       "      <td>0.0</td>\n",
       "      <td>...</td>\n",
       "      <td>5.125213</td>\n",
       "      <td>8.127123</td>\n",
       "      <td>10.908640</td>\n",
       "      <td>5.401607</td>\n",
       "      <td>9.911597</td>\n",
       "      <td>9.045255</td>\n",
       "      <td>9.788359</td>\n",
       "      <td>10.090470</td>\n",
       "      <td>1.683023</td>\n",
       "      <td>0.0</td>\n",
       "    </tr>\n",
       "    <tr>\n",
       "      <th>3</th>\n",
       "      <td>sample_3</td>\n",
       "      <td>0.0</td>\n",
       "      <td>3.663618</td>\n",
       "      <td>4.507649</td>\n",
       "      <td>6.659068</td>\n",
       "      <td>10.196184</td>\n",
       "      <td>0.0</td>\n",
       "      <td>7.843375</td>\n",
       "      <td>0.434882</td>\n",
       "      <td>0.0</td>\n",
       "      <td>...</td>\n",
       "      <td>6.076566</td>\n",
       "      <td>8.792959</td>\n",
       "      <td>10.141520</td>\n",
       "      <td>8.942805</td>\n",
       "      <td>9.601208</td>\n",
       "      <td>11.392682</td>\n",
       "      <td>9.694814</td>\n",
       "      <td>9.684365</td>\n",
       "      <td>3.292001</td>\n",
       "      <td>0.0</td>\n",
       "    </tr>\n",
       "    <tr>\n",
       "      <th>4</th>\n",
       "      <td>sample_4</td>\n",
       "      <td>0.0</td>\n",
       "      <td>2.655741</td>\n",
       "      <td>2.821547</td>\n",
       "      <td>6.539454</td>\n",
       "      <td>9.738265</td>\n",
       "      <td>0.0</td>\n",
       "      <td>6.566967</td>\n",
       "      <td>0.360982</td>\n",
       "      <td>0.0</td>\n",
       "      <td>...</td>\n",
       "      <td>5.996032</td>\n",
       "      <td>8.891425</td>\n",
       "      <td>10.373790</td>\n",
       "      <td>7.181162</td>\n",
       "      <td>9.846910</td>\n",
       "      <td>11.922439</td>\n",
       "      <td>9.217749</td>\n",
       "      <td>9.461191</td>\n",
       "      <td>5.110372</td>\n",
       "      <td>0.0</td>\n",
       "    </tr>\n",
       "  </tbody>\n",
       "</table>\n",
       "<p>5 rows × 20532 columns</p>\n",
       "</div>"
      ],
      "text/plain": [
       "  Unnamed: 0  gene_0    gene_1    gene_2    gene_3     gene_4  gene_5  \\\n",
       "0   sample_0     0.0  2.017209  3.265527  5.478487  10.431999     0.0   \n",
       "1   sample_1     0.0  0.592732  1.588421  7.586157   9.623011     0.0   \n",
       "2   sample_2     0.0  3.511759  4.327199  6.881787   9.870730     0.0   \n",
       "3   sample_3     0.0  3.663618  4.507649  6.659068  10.196184     0.0   \n",
       "4   sample_4     0.0  2.655741  2.821547  6.539454   9.738265     0.0   \n",
       "\n",
       "     gene_6    gene_7  gene_8  ...  gene_20521  gene_20522  gene_20523  \\\n",
       "0  7.175175  0.591871     0.0  ...    4.926711    8.210257    9.723516   \n",
       "1  6.816049  0.000000     0.0  ...    4.593372    7.323865    9.740931   \n",
       "2  6.972130  0.452595     0.0  ...    5.125213    8.127123   10.908640   \n",
       "3  7.843375  0.434882     0.0  ...    6.076566    8.792959   10.141520   \n",
       "4  6.566967  0.360982     0.0  ...    5.996032    8.891425   10.373790   \n",
       "\n",
       "   gene_20524  gene_20525  gene_20526  gene_20527  gene_20528  gene_20529  \\\n",
       "0    7.220030    9.119813   12.003135    9.650743    8.921326    5.286759   \n",
       "1    6.256586    8.381612   12.674552   10.517059    9.397854    2.094168   \n",
       "2    5.401607    9.911597    9.045255    9.788359   10.090470    1.683023   \n",
       "3    8.942805    9.601208   11.392682    9.694814    9.684365    3.292001   \n",
       "4    7.181162    9.846910   11.922439    9.217749    9.461191    5.110372   \n",
       "\n",
       "   gene_20530  \n",
       "0         0.0  \n",
       "1         0.0  \n",
       "2         0.0  \n",
       "3         0.0  \n",
       "4         0.0  \n",
       "\n",
       "[5 rows x 20532 columns]"
      ]
     },
     "execution_count": 1,
     "metadata": {},
     "output_type": "execute_result"
    }
   ],
   "source": [
    "import pandas as pd\n",
    "import numpy as np\n",
    "\n",
    "data = pd.read_csv('data.csv')\n",
    "data.head()"
   ]
  },
  {
   "cell_type": "code",
   "execution_count": 2,
   "id": "c6d05ee4",
   "metadata": {
    "execution": {
     "iopub.execute_input": "2025-03-31T12:43:25.421754Z",
     "iopub.status.busy": "2025-03-31T12:43:25.421354Z",
     "iopub.status.idle": "2025-03-31T12:43:25.449075Z",
     "shell.execute_reply": "2025-03-31T12:43:25.448090Z"
    },
    "papermill": {
     "duration": 0.038938,
     "end_time": "2025-03-31T12:43:25.450698",
     "exception": false,
     "start_time": "2025-03-31T12:43:25.411760",
     "status": "completed"
    },
    "tags": []
   },
   "outputs": [
    {
     "data": {
      "text/html": [
       "<div>\n",
       "<style scoped>\n",
       "    .dataframe tbody tr th:only-of-type {\n",
       "        vertical-align: middle;\n",
       "    }\n",
       "\n",
       "    .dataframe tbody tr th {\n",
       "        vertical-align: top;\n",
       "    }\n",
       "\n",
       "    .dataframe thead th {\n",
       "        text-align: right;\n",
       "    }\n",
       "</style>\n",
       "<table border=\"1\" class=\"dataframe\">\n",
       "  <thead>\n",
       "    <tr style=\"text-align: right;\">\n",
       "      <th></th>\n",
       "      <th>sample_id</th>\n",
       "      <th>gene_0</th>\n",
       "      <th>gene_1</th>\n",
       "      <th>gene_2</th>\n",
       "      <th>gene_3</th>\n",
       "      <th>gene_4</th>\n",
       "      <th>gene_5</th>\n",
       "      <th>gene_6</th>\n",
       "      <th>gene_7</th>\n",
       "      <th>gene_8</th>\n",
       "      <th>...</th>\n",
       "      <th>gene_20521</th>\n",
       "      <th>gene_20522</th>\n",
       "      <th>gene_20523</th>\n",
       "      <th>gene_20524</th>\n",
       "      <th>gene_20525</th>\n",
       "      <th>gene_20526</th>\n",
       "      <th>gene_20527</th>\n",
       "      <th>gene_20528</th>\n",
       "      <th>gene_20529</th>\n",
       "      <th>gene_20530</th>\n",
       "    </tr>\n",
       "  </thead>\n",
       "  <tbody>\n",
       "    <tr>\n",
       "      <th>0</th>\n",
       "      <td>sample_0</td>\n",
       "      <td>0.0</td>\n",
       "      <td>2.017209</td>\n",
       "      <td>3.265527</td>\n",
       "      <td>5.478487</td>\n",
       "      <td>10.431999</td>\n",
       "      <td>0.0</td>\n",
       "      <td>7.175175</td>\n",
       "      <td>0.591871</td>\n",
       "      <td>0.0</td>\n",
       "      <td>...</td>\n",
       "      <td>4.926711</td>\n",
       "      <td>8.210257</td>\n",
       "      <td>9.723516</td>\n",
       "      <td>7.220030</td>\n",
       "      <td>9.119813</td>\n",
       "      <td>12.003135</td>\n",
       "      <td>9.650743</td>\n",
       "      <td>8.921326</td>\n",
       "      <td>5.286759</td>\n",
       "      <td>0.0</td>\n",
       "    </tr>\n",
       "    <tr>\n",
       "      <th>1</th>\n",
       "      <td>sample_1</td>\n",
       "      <td>0.0</td>\n",
       "      <td>0.592732</td>\n",
       "      <td>1.588421</td>\n",
       "      <td>7.586157</td>\n",
       "      <td>9.623011</td>\n",
       "      <td>0.0</td>\n",
       "      <td>6.816049</td>\n",
       "      <td>0.000000</td>\n",
       "      <td>0.0</td>\n",
       "      <td>...</td>\n",
       "      <td>4.593372</td>\n",
       "      <td>7.323865</td>\n",
       "      <td>9.740931</td>\n",
       "      <td>6.256586</td>\n",
       "      <td>8.381612</td>\n",
       "      <td>12.674552</td>\n",
       "      <td>10.517059</td>\n",
       "      <td>9.397854</td>\n",
       "      <td>2.094168</td>\n",
       "      <td>0.0</td>\n",
       "    </tr>\n",
       "    <tr>\n",
       "      <th>2</th>\n",
       "      <td>sample_2</td>\n",
       "      <td>0.0</td>\n",
       "      <td>3.511759</td>\n",
       "      <td>4.327199</td>\n",
       "      <td>6.881787</td>\n",
       "      <td>9.870730</td>\n",
       "      <td>0.0</td>\n",
       "      <td>6.972130</td>\n",
       "      <td>0.452595</td>\n",
       "      <td>0.0</td>\n",
       "      <td>...</td>\n",
       "      <td>5.125213</td>\n",
       "      <td>8.127123</td>\n",
       "      <td>10.908640</td>\n",
       "      <td>5.401607</td>\n",
       "      <td>9.911597</td>\n",
       "      <td>9.045255</td>\n",
       "      <td>9.788359</td>\n",
       "      <td>10.090470</td>\n",
       "      <td>1.683023</td>\n",
       "      <td>0.0</td>\n",
       "    </tr>\n",
       "    <tr>\n",
       "      <th>3</th>\n",
       "      <td>sample_3</td>\n",
       "      <td>0.0</td>\n",
       "      <td>3.663618</td>\n",
       "      <td>4.507649</td>\n",
       "      <td>6.659068</td>\n",
       "      <td>10.196184</td>\n",
       "      <td>0.0</td>\n",
       "      <td>7.843375</td>\n",
       "      <td>0.434882</td>\n",
       "      <td>0.0</td>\n",
       "      <td>...</td>\n",
       "      <td>6.076566</td>\n",
       "      <td>8.792959</td>\n",
       "      <td>10.141520</td>\n",
       "      <td>8.942805</td>\n",
       "      <td>9.601208</td>\n",
       "      <td>11.392682</td>\n",
       "      <td>9.694814</td>\n",
       "      <td>9.684365</td>\n",
       "      <td>3.292001</td>\n",
       "      <td>0.0</td>\n",
       "    </tr>\n",
       "    <tr>\n",
       "      <th>4</th>\n",
       "      <td>sample_4</td>\n",
       "      <td>0.0</td>\n",
       "      <td>2.655741</td>\n",
       "      <td>2.821547</td>\n",
       "      <td>6.539454</td>\n",
       "      <td>9.738265</td>\n",
       "      <td>0.0</td>\n",
       "      <td>6.566967</td>\n",
       "      <td>0.360982</td>\n",
       "      <td>0.0</td>\n",
       "      <td>...</td>\n",
       "      <td>5.996032</td>\n",
       "      <td>8.891425</td>\n",
       "      <td>10.373790</td>\n",
       "      <td>7.181162</td>\n",
       "      <td>9.846910</td>\n",
       "      <td>11.922439</td>\n",
       "      <td>9.217749</td>\n",
       "      <td>9.461191</td>\n",
       "      <td>5.110372</td>\n",
       "      <td>0.0</td>\n",
       "    </tr>\n",
       "  </tbody>\n",
       "</table>\n",
       "<p>5 rows × 20532 columns</p>\n",
       "</div>"
      ],
      "text/plain": [
       "  sample_id  gene_0    gene_1    gene_2    gene_3     gene_4  gene_5  \\\n",
       "0  sample_0     0.0  2.017209  3.265527  5.478487  10.431999     0.0   \n",
       "1  sample_1     0.0  0.592732  1.588421  7.586157   9.623011     0.0   \n",
       "2  sample_2     0.0  3.511759  4.327199  6.881787   9.870730     0.0   \n",
       "3  sample_3     0.0  3.663618  4.507649  6.659068  10.196184     0.0   \n",
       "4  sample_4     0.0  2.655741  2.821547  6.539454   9.738265     0.0   \n",
       "\n",
       "     gene_6    gene_7  gene_8  ...  gene_20521  gene_20522  gene_20523  \\\n",
       "0  7.175175  0.591871     0.0  ...    4.926711    8.210257    9.723516   \n",
       "1  6.816049  0.000000     0.0  ...    4.593372    7.323865    9.740931   \n",
       "2  6.972130  0.452595     0.0  ...    5.125213    8.127123   10.908640   \n",
       "3  7.843375  0.434882     0.0  ...    6.076566    8.792959   10.141520   \n",
       "4  6.566967  0.360982     0.0  ...    5.996032    8.891425   10.373790   \n",
       "\n",
       "   gene_20524  gene_20525  gene_20526  gene_20527  gene_20528  gene_20529  \\\n",
       "0    7.220030    9.119813   12.003135    9.650743    8.921326    5.286759   \n",
       "1    6.256586    8.381612   12.674552   10.517059    9.397854    2.094168   \n",
       "2    5.401607    9.911597    9.045255    9.788359   10.090470    1.683023   \n",
       "3    8.942805    9.601208   11.392682    9.694814    9.684365    3.292001   \n",
       "4    7.181162    9.846910   11.922439    9.217749    9.461191    5.110372   \n",
       "\n",
       "   gene_20530  \n",
       "0         0.0  \n",
       "1         0.0  \n",
       "2         0.0  \n",
       "3         0.0  \n",
       "4         0.0  \n",
       "\n",
       "[5 rows x 20532 columns]"
      ]
     },
     "execution_count": 2,
     "metadata": {},
     "output_type": "execute_result"
    }
   ],
   "source": [
    "# Rename the first column to 'sample_id'\n",
    "data.columns = ['sample_id'] + list(data.columns[1:])\n",
    "data.head()"
   ]
  },
  {
   "cell_type": "code",
   "execution_count": 3,
   "id": "79fc9af1",
   "metadata": {
    "execution": {
     "iopub.execute_input": "2025-03-31T12:43:25.470466Z",
     "iopub.status.busy": "2025-03-31T12:43:25.470115Z",
     "iopub.status.idle": "2025-03-31T12:43:25.475276Z",
     "shell.execute_reply": "2025-03-31T12:43:25.474373Z"
    },
    "papermill": {
     "duration": 0.016804,
     "end_time": "2025-03-31T12:43:25.476848",
     "exception": false,
     "start_time": "2025-03-31T12:43:25.460044",
     "status": "completed"
    },
    "tags": []
   },
   "outputs": [
    {
     "data": {
      "text/plain": [
       "(801, 20532)"
      ]
     },
     "execution_count": 3,
     "metadata": {},
     "output_type": "execute_result"
    }
   ],
   "source": [
    "data.shape"
   ]
  },
  {
   "cell_type": "markdown",
   "id": "028a39dd",
   "metadata": {
    "papermill": {
     "duration": 0.008989,
     "end_time": "2025-03-31T12:43:25.495037",
     "exception": false,
     "start_time": "2025-03-31T12:43:25.486048",
     "status": "completed"
    },
    "tags": []
   },
   "source": [
    "- **Reading label data file**"
   ]
  },
  {
   "cell_type": "code",
   "execution_count": 4,
   "id": "e8ede654",
   "metadata": {
    "execution": {
     "iopub.execute_input": "2025-03-31T12:43:25.515362Z",
     "iopub.status.busy": "2025-03-31T12:43:25.515041Z",
     "iopub.status.idle": "2025-03-31T12:43:25.528250Z",
     "shell.execute_reply": "2025-03-31T12:43:25.527357Z"
    },
    "papermill": {
     "duration": 0.024923,
     "end_time": "2025-03-31T12:43:25.529846",
     "exception": false,
     "start_time": "2025-03-31T12:43:25.504923",
     "status": "completed"
    },
    "tags": []
   },
   "outputs": [
    {
     "data": {
      "text/html": [
       "<div>\n",
       "<style scoped>\n",
       "    .dataframe tbody tr th:only-of-type {\n",
       "        vertical-align: middle;\n",
       "    }\n",
       "\n",
       "    .dataframe tbody tr th {\n",
       "        vertical-align: top;\n",
       "    }\n",
       "\n",
       "    .dataframe thead th {\n",
       "        text-align: right;\n",
       "    }\n",
       "</style>\n",
       "<table border=\"1\" class=\"dataframe\">\n",
       "  <thead>\n",
       "    <tr style=\"text-align: right;\">\n",
       "      <th></th>\n",
       "      <th>Unnamed: 0</th>\n",
       "      <th>Class</th>\n",
       "    </tr>\n",
       "  </thead>\n",
       "  <tbody>\n",
       "    <tr>\n",
       "      <th>0</th>\n",
       "      <td>sample_0</td>\n",
       "      <td>PRAD</td>\n",
       "    </tr>\n",
       "    <tr>\n",
       "      <th>1</th>\n",
       "      <td>sample_1</td>\n",
       "      <td>LUAD</td>\n",
       "    </tr>\n",
       "    <tr>\n",
       "      <th>2</th>\n",
       "      <td>sample_2</td>\n",
       "      <td>PRAD</td>\n",
       "    </tr>\n",
       "    <tr>\n",
       "      <th>3</th>\n",
       "      <td>sample_3</td>\n",
       "      <td>PRAD</td>\n",
       "    </tr>\n",
       "    <tr>\n",
       "      <th>4</th>\n",
       "      <td>sample_4</td>\n",
       "      <td>BRCA</td>\n",
       "    </tr>\n",
       "  </tbody>\n",
       "</table>\n",
       "</div>"
      ],
      "text/plain": [
       "  Unnamed: 0 Class\n",
       "0   sample_0  PRAD\n",
       "1   sample_1  LUAD\n",
       "2   sample_2  PRAD\n",
       "3   sample_3  PRAD\n",
       "4   sample_4  BRCA"
      ]
     },
     "execution_count": 4,
     "metadata": {},
     "output_type": "execute_result"
    }
   ],
   "source": [
    "label = pd.read_csv('labels.csv')\n",
    "label.head()"
   ]
  },
  {
   "cell_type": "code",
   "execution_count": 5,
   "id": "85f8452f",
   "metadata": {
    "execution": {
     "iopub.execute_input": "2025-03-31T12:43:25.549786Z",
     "iopub.status.busy": "2025-03-31T12:43:25.549410Z",
     "iopub.status.idle": "2025-03-31T12:43:25.558160Z",
     "shell.execute_reply": "2025-03-31T12:43:25.557376Z"
    },
    "papermill": {
     "duration": 0.020433,
     "end_time": "2025-03-31T12:43:25.559595",
     "exception": false,
     "start_time": "2025-03-31T12:43:25.539162",
     "status": "completed"
    },
    "tags": []
   },
   "outputs": [
    {
     "data": {
      "text/html": [
       "<div>\n",
       "<style scoped>\n",
       "    .dataframe tbody tr th:only-of-type {\n",
       "        vertical-align: middle;\n",
       "    }\n",
       "\n",
       "    .dataframe tbody tr th {\n",
       "        vertical-align: top;\n",
       "    }\n",
       "\n",
       "    .dataframe thead th {\n",
       "        text-align: right;\n",
       "    }\n",
       "</style>\n",
       "<table border=\"1\" class=\"dataframe\">\n",
       "  <thead>\n",
       "    <tr style=\"text-align: right;\">\n",
       "      <th></th>\n",
       "      <th>sample_id</th>\n",
       "      <th>Class</th>\n",
       "    </tr>\n",
       "  </thead>\n",
       "  <tbody>\n",
       "    <tr>\n",
       "      <th>0</th>\n",
       "      <td>sample_0</td>\n",
       "      <td>PRAD</td>\n",
       "    </tr>\n",
       "    <tr>\n",
       "      <th>1</th>\n",
       "      <td>sample_1</td>\n",
       "      <td>LUAD</td>\n",
       "    </tr>\n",
       "    <tr>\n",
       "      <th>2</th>\n",
       "      <td>sample_2</td>\n",
       "      <td>PRAD</td>\n",
       "    </tr>\n",
       "    <tr>\n",
       "      <th>3</th>\n",
       "      <td>sample_3</td>\n",
       "      <td>PRAD</td>\n",
       "    </tr>\n",
       "    <tr>\n",
       "      <th>4</th>\n",
       "      <td>sample_4</td>\n",
       "      <td>BRCA</td>\n",
       "    </tr>\n",
       "  </tbody>\n",
       "</table>\n",
       "</div>"
      ],
      "text/plain": [
       "  sample_id Class\n",
       "0  sample_0  PRAD\n",
       "1  sample_1  LUAD\n",
       "2  sample_2  PRAD\n",
       "3  sample_3  PRAD\n",
       "4  sample_4  BRCA"
      ]
     },
     "execution_count": 5,
     "metadata": {},
     "output_type": "execute_result"
    }
   ],
   "source": [
    "# Rename the first column to 'sample_id'\n",
    "label.columns = ['sample_id'] + list(label.columns[1:])\n",
    "label.head()"
   ]
  },
  {
   "cell_type": "code",
   "execution_count": 6,
   "id": "acf76f24",
   "metadata": {
    "execution": {
     "iopub.execute_input": "2025-03-31T12:43:25.580208Z",
     "iopub.status.busy": "2025-03-31T12:43:25.579872Z",
     "iopub.status.idle": "2025-03-31T12:43:25.585200Z",
     "shell.execute_reply": "2025-03-31T12:43:25.584209Z"
    },
    "papermill": {
     "duration": 0.017084,
     "end_time": "2025-03-31T12:43:25.586772",
     "exception": false,
     "start_time": "2025-03-31T12:43:25.569688",
     "status": "completed"
    },
    "tags": []
   },
   "outputs": [
    {
     "data": {
      "text/plain": [
       "(801, 2)"
      ]
     },
     "execution_count": 6,
     "metadata": {},
     "output_type": "execute_result"
    }
   ],
   "source": [
    "label.shape"
   ]
  },
  {
   "cell_type": "markdown",
   "id": "62032b35",
   "metadata": {
    "papermill": {
     "duration": 0.009213,
     "end_time": "2025-03-31T12:43:25.605600",
     "exception": false,
     "start_time": "2025-03-31T12:43:25.596387",
     "status": "completed"
    },
    "tags": []
   },
   "source": [
    "## **Merging data to form a single dataframe**"
   ]
  },
  {
   "cell_type": "code",
   "execution_count": 7,
   "id": "f6b31e7c",
   "metadata": {
    "execution": {
     "iopub.execute_input": "2025-03-31T12:43:25.626314Z",
     "iopub.status.busy": "2025-03-31T12:43:25.625989Z",
     "iopub.status.idle": "2025-03-31T12:43:25.833094Z",
     "shell.execute_reply": "2025-03-31T12:43:25.832041Z"
    },
    "papermill": {
     "duration": 0.219481,
     "end_time": "2025-03-31T12:43:25.834720",
     "exception": false,
     "start_time": "2025-03-31T12:43:25.615239",
     "status": "completed"
    },
    "tags": []
   },
   "outputs": [
    {
     "data": {
      "text/html": [
       "<div>\n",
       "<style scoped>\n",
       "    .dataframe tbody tr th:only-of-type {\n",
       "        vertical-align: middle;\n",
       "    }\n",
       "\n",
       "    .dataframe tbody tr th {\n",
       "        vertical-align: top;\n",
       "    }\n",
       "\n",
       "    .dataframe thead th {\n",
       "        text-align: right;\n",
       "    }\n",
       "</style>\n",
       "<table border=\"1\" class=\"dataframe\">\n",
       "  <thead>\n",
       "    <tr style=\"text-align: right;\">\n",
       "      <th></th>\n",
       "      <th>sample_id</th>\n",
       "      <th>gene_0</th>\n",
       "      <th>gene_1</th>\n",
       "      <th>gene_2</th>\n",
       "      <th>gene_3</th>\n",
       "      <th>gene_4</th>\n",
       "      <th>gene_5</th>\n",
       "      <th>gene_6</th>\n",
       "      <th>gene_7</th>\n",
       "      <th>gene_8</th>\n",
       "      <th>...</th>\n",
       "      <th>gene_20522</th>\n",
       "      <th>gene_20523</th>\n",
       "      <th>gene_20524</th>\n",
       "      <th>gene_20525</th>\n",
       "      <th>gene_20526</th>\n",
       "      <th>gene_20527</th>\n",
       "      <th>gene_20528</th>\n",
       "      <th>gene_20529</th>\n",
       "      <th>gene_20530</th>\n",
       "      <th>Class</th>\n",
       "    </tr>\n",
       "  </thead>\n",
       "  <tbody>\n",
       "    <tr>\n",
       "      <th>0</th>\n",
       "      <td>sample_0</td>\n",
       "      <td>0.0</td>\n",
       "      <td>2.017209</td>\n",
       "      <td>3.265527</td>\n",
       "      <td>5.478487</td>\n",
       "      <td>10.431999</td>\n",
       "      <td>0.0</td>\n",
       "      <td>7.175175</td>\n",
       "      <td>0.591871</td>\n",
       "      <td>0.0</td>\n",
       "      <td>...</td>\n",
       "      <td>8.210257</td>\n",
       "      <td>9.723516</td>\n",
       "      <td>7.220030</td>\n",
       "      <td>9.119813</td>\n",
       "      <td>12.003135</td>\n",
       "      <td>9.650743</td>\n",
       "      <td>8.921326</td>\n",
       "      <td>5.286759</td>\n",
       "      <td>0.0</td>\n",
       "      <td>PRAD</td>\n",
       "    </tr>\n",
       "    <tr>\n",
       "      <th>1</th>\n",
       "      <td>sample_1</td>\n",
       "      <td>0.0</td>\n",
       "      <td>0.592732</td>\n",
       "      <td>1.588421</td>\n",
       "      <td>7.586157</td>\n",
       "      <td>9.623011</td>\n",
       "      <td>0.0</td>\n",
       "      <td>6.816049</td>\n",
       "      <td>0.000000</td>\n",
       "      <td>0.0</td>\n",
       "      <td>...</td>\n",
       "      <td>7.323865</td>\n",
       "      <td>9.740931</td>\n",
       "      <td>6.256586</td>\n",
       "      <td>8.381612</td>\n",
       "      <td>12.674552</td>\n",
       "      <td>10.517059</td>\n",
       "      <td>9.397854</td>\n",
       "      <td>2.094168</td>\n",
       "      <td>0.0</td>\n",
       "      <td>LUAD</td>\n",
       "    </tr>\n",
       "    <tr>\n",
       "      <th>2</th>\n",
       "      <td>sample_2</td>\n",
       "      <td>0.0</td>\n",
       "      <td>3.511759</td>\n",
       "      <td>4.327199</td>\n",
       "      <td>6.881787</td>\n",
       "      <td>9.870730</td>\n",
       "      <td>0.0</td>\n",
       "      <td>6.972130</td>\n",
       "      <td>0.452595</td>\n",
       "      <td>0.0</td>\n",
       "      <td>...</td>\n",
       "      <td>8.127123</td>\n",
       "      <td>10.908640</td>\n",
       "      <td>5.401607</td>\n",
       "      <td>9.911597</td>\n",
       "      <td>9.045255</td>\n",
       "      <td>9.788359</td>\n",
       "      <td>10.090470</td>\n",
       "      <td>1.683023</td>\n",
       "      <td>0.0</td>\n",
       "      <td>PRAD</td>\n",
       "    </tr>\n",
       "    <tr>\n",
       "      <th>3</th>\n",
       "      <td>sample_3</td>\n",
       "      <td>0.0</td>\n",
       "      <td>3.663618</td>\n",
       "      <td>4.507649</td>\n",
       "      <td>6.659068</td>\n",
       "      <td>10.196184</td>\n",
       "      <td>0.0</td>\n",
       "      <td>7.843375</td>\n",
       "      <td>0.434882</td>\n",
       "      <td>0.0</td>\n",
       "      <td>...</td>\n",
       "      <td>8.792959</td>\n",
       "      <td>10.141520</td>\n",
       "      <td>8.942805</td>\n",
       "      <td>9.601208</td>\n",
       "      <td>11.392682</td>\n",
       "      <td>9.694814</td>\n",
       "      <td>9.684365</td>\n",
       "      <td>3.292001</td>\n",
       "      <td>0.0</td>\n",
       "      <td>PRAD</td>\n",
       "    </tr>\n",
       "    <tr>\n",
       "      <th>4</th>\n",
       "      <td>sample_4</td>\n",
       "      <td>0.0</td>\n",
       "      <td>2.655741</td>\n",
       "      <td>2.821547</td>\n",
       "      <td>6.539454</td>\n",
       "      <td>9.738265</td>\n",
       "      <td>0.0</td>\n",
       "      <td>6.566967</td>\n",
       "      <td>0.360982</td>\n",
       "      <td>0.0</td>\n",
       "      <td>...</td>\n",
       "      <td>8.891425</td>\n",
       "      <td>10.373790</td>\n",
       "      <td>7.181162</td>\n",
       "      <td>9.846910</td>\n",
       "      <td>11.922439</td>\n",
       "      <td>9.217749</td>\n",
       "      <td>9.461191</td>\n",
       "      <td>5.110372</td>\n",
       "      <td>0.0</td>\n",
       "      <td>BRCA</td>\n",
       "    </tr>\n",
       "  </tbody>\n",
       "</table>\n",
       "<p>5 rows × 20533 columns</p>\n",
       "</div>"
      ],
      "text/plain": [
       "  sample_id  gene_0    gene_1    gene_2    gene_3     gene_4  gene_5  \\\n",
       "0  sample_0     0.0  2.017209  3.265527  5.478487  10.431999     0.0   \n",
       "1  sample_1     0.0  0.592732  1.588421  7.586157   9.623011     0.0   \n",
       "2  sample_2     0.0  3.511759  4.327199  6.881787   9.870730     0.0   \n",
       "3  sample_3     0.0  3.663618  4.507649  6.659068  10.196184     0.0   \n",
       "4  sample_4     0.0  2.655741  2.821547  6.539454   9.738265     0.0   \n",
       "\n",
       "     gene_6    gene_7  gene_8  ...  gene_20522  gene_20523  gene_20524  \\\n",
       "0  7.175175  0.591871     0.0  ...    8.210257    9.723516    7.220030   \n",
       "1  6.816049  0.000000     0.0  ...    7.323865    9.740931    6.256586   \n",
       "2  6.972130  0.452595     0.0  ...    8.127123   10.908640    5.401607   \n",
       "3  7.843375  0.434882     0.0  ...    8.792959   10.141520    8.942805   \n",
       "4  6.566967  0.360982     0.0  ...    8.891425   10.373790    7.181162   \n",
       "\n",
       "   gene_20525  gene_20526  gene_20527  gene_20528  gene_20529  gene_20530  \\\n",
       "0    9.119813   12.003135    9.650743    8.921326    5.286759         0.0   \n",
       "1    8.381612   12.674552   10.517059    9.397854    2.094168         0.0   \n",
       "2    9.911597    9.045255    9.788359   10.090470    1.683023         0.0   \n",
       "3    9.601208   11.392682    9.694814    9.684365    3.292001         0.0   \n",
       "4    9.846910   11.922439    9.217749    9.461191    5.110372         0.0   \n",
       "\n",
       "   Class  \n",
       "0   PRAD  \n",
       "1   LUAD  \n",
       "2   PRAD  \n",
       "3   PRAD  \n",
       "4   BRCA  \n",
       "\n",
       "[5 rows x 20533 columns]"
      ]
     },
     "execution_count": 7,
     "metadata": {},
     "output_type": "execute_result"
    }
   ],
   "source": [
    "df = pd.concat([data.set_index('sample_id'), label.set_index('sample_id')], axis=1).reset_index()\n",
    "df.head()"
   ]
  },
  {
   "cell_type": "markdown",
   "id": "ea87a764",
   "metadata": {
    "papermill": {
     "duration": 0.009379,
     "end_time": "2025-03-31T12:43:25.854077",
     "exception": false,
     "start_time": "2025-03-31T12:43:25.844698",
     "status": "completed"
    },
    "tags": []
   },
   "source": [
    "# **Data Preprocessing**\n",
    "---"
   ]
  },
  {
   "cell_type": "markdown",
   "id": "c4ba8504",
   "metadata": {
    "papermill": {
     "duration": 0.009248,
     "end_time": "2025-03-31T12:43:25.872971",
     "exception": false,
     "start_time": "2025-03-31T12:43:25.863723",
     "status": "completed"
    },
    "tags": []
   },
   "source": [
    "## **Data Cleaning**"
   ]
  },
  {
   "cell_type": "markdown",
   "id": "38bee842",
   "metadata": {
    "papermill": {
     "duration": 0.009381,
     "end_time": "2025-03-31T12:43:25.891903",
     "exception": false,
     "start_time": "2025-03-31T12:43:25.882522",
     "status": "completed"
    },
    "tags": []
   },
   "source": [
    "- **Removing `sample_id` as it is not required anymore**"
   ]
  },
  {
   "cell_type": "code",
   "execution_count": 8,
   "id": "6d8b3a18",
   "metadata": {
    "execution": {
     "iopub.execute_input": "2025-03-31T12:43:25.912159Z",
     "iopub.status.busy": "2025-03-31T12:43:25.911825Z",
     "iopub.status.idle": "2025-03-31T12:43:25.980260Z",
     "shell.execute_reply": "2025-03-31T12:43:25.979093Z"
    },
    "papermill": {
     "duration": 0.080478,
     "end_time": "2025-03-31T12:43:25.981835",
     "exception": false,
     "start_time": "2025-03-31T12:43:25.901357",
     "status": "completed"
    },
    "tags": []
   },
   "outputs": [
    {
     "data": {
      "text/html": [
       "<div>\n",
       "<style scoped>\n",
       "    .dataframe tbody tr th:only-of-type {\n",
       "        vertical-align: middle;\n",
       "    }\n",
       "\n",
       "    .dataframe tbody tr th {\n",
       "        vertical-align: top;\n",
       "    }\n",
       "\n",
       "    .dataframe thead th {\n",
       "        text-align: right;\n",
       "    }\n",
       "</style>\n",
       "<table border=\"1\" class=\"dataframe\">\n",
       "  <thead>\n",
       "    <tr style=\"text-align: right;\">\n",
       "      <th></th>\n",
       "      <th>gene_0</th>\n",
       "      <th>gene_1</th>\n",
       "      <th>gene_2</th>\n",
       "      <th>gene_3</th>\n",
       "      <th>gene_4</th>\n",
       "      <th>gene_5</th>\n",
       "      <th>gene_6</th>\n",
       "      <th>gene_7</th>\n",
       "      <th>gene_8</th>\n",
       "      <th>gene_9</th>\n",
       "      <th>...</th>\n",
       "      <th>gene_20522</th>\n",
       "      <th>gene_20523</th>\n",
       "      <th>gene_20524</th>\n",
       "      <th>gene_20525</th>\n",
       "      <th>gene_20526</th>\n",
       "      <th>gene_20527</th>\n",
       "      <th>gene_20528</th>\n",
       "      <th>gene_20529</th>\n",
       "      <th>gene_20530</th>\n",
       "      <th>Class</th>\n",
       "    </tr>\n",
       "  </thead>\n",
       "  <tbody>\n",
       "    <tr>\n",
       "      <th>0</th>\n",
       "      <td>0.0</td>\n",
       "      <td>2.017209</td>\n",
       "      <td>3.265527</td>\n",
       "      <td>5.478487</td>\n",
       "      <td>10.431999</td>\n",
       "      <td>0.0</td>\n",
       "      <td>7.175175</td>\n",
       "      <td>0.591871</td>\n",
       "      <td>0.0</td>\n",
       "      <td>0.0</td>\n",
       "      <td>...</td>\n",
       "      <td>8.210257</td>\n",
       "      <td>9.723516</td>\n",
       "      <td>7.220030</td>\n",
       "      <td>9.119813</td>\n",
       "      <td>12.003135</td>\n",
       "      <td>9.650743</td>\n",
       "      <td>8.921326</td>\n",
       "      <td>5.286759</td>\n",
       "      <td>0.0</td>\n",
       "      <td>PRAD</td>\n",
       "    </tr>\n",
       "    <tr>\n",
       "      <th>1</th>\n",
       "      <td>0.0</td>\n",
       "      <td>0.592732</td>\n",
       "      <td>1.588421</td>\n",
       "      <td>7.586157</td>\n",
       "      <td>9.623011</td>\n",
       "      <td>0.0</td>\n",
       "      <td>6.816049</td>\n",
       "      <td>0.000000</td>\n",
       "      <td>0.0</td>\n",
       "      <td>0.0</td>\n",
       "      <td>...</td>\n",
       "      <td>7.323865</td>\n",
       "      <td>9.740931</td>\n",
       "      <td>6.256586</td>\n",
       "      <td>8.381612</td>\n",
       "      <td>12.674552</td>\n",
       "      <td>10.517059</td>\n",
       "      <td>9.397854</td>\n",
       "      <td>2.094168</td>\n",
       "      <td>0.0</td>\n",
       "      <td>LUAD</td>\n",
       "    </tr>\n",
       "    <tr>\n",
       "      <th>2</th>\n",
       "      <td>0.0</td>\n",
       "      <td>3.511759</td>\n",
       "      <td>4.327199</td>\n",
       "      <td>6.881787</td>\n",
       "      <td>9.870730</td>\n",
       "      <td>0.0</td>\n",
       "      <td>6.972130</td>\n",
       "      <td>0.452595</td>\n",
       "      <td>0.0</td>\n",
       "      <td>0.0</td>\n",
       "      <td>...</td>\n",
       "      <td>8.127123</td>\n",
       "      <td>10.908640</td>\n",
       "      <td>5.401607</td>\n",
       "      <td>9.911597</td>\n",
       "      <td>9.045255</td>\n",
       "      <td>9.788359</td>\n",
       "      <td>10.090470</td>\n",
       "      <td>1.683023</td>\n",
       "      <td>0.0</td>\n",
       "      <td>PRAD</td>\n",
       "    </tr>\n",
       "    <tr>\n",
       "      <th>3</th>\n",
       "      <td>0.0</td>\n",
       "      <td>3.663618</td>\n",
       "      <td>4.507649</td>\n",
       "      <td>6.659068</td>\n",
       "      <td>10.196184</td>\n",
       "      <td>0.0</td>\n",
       "      <td>7.843375</td>\n",
       "      <td>0.434882</td>\n",
       "      <td>0.0</td>\n",
       "      <td>0.0</td>\n",
       "      <td>...</td>\n",
       "      <td>8.792959</td>\n",
       "      <td>10.141520</td>\n",
       "      <td>8.942805</td>\n",
       "      <td>9.601208</td>\n",
       "      <td>11.392682</td>\n",
       "      <td>9.694814</td>\n",
       "      <td>9.684365</td>\n",
       "      <td>3.292001</td>\n",
       "      <td>0.0</td>\n",
       "      <td>PRAD</td>\n",
       "    </tr>\n",
       "    <tr>\n",
       "      <th>4</th>\n",
       "      <td>0.0</td>\n",
       "      <td>2.655741</td>\n",
       "      <td>2.821547</td>\n",
       "      <td>6.539454</td>\n",
       "      <td>9.738265</td>\n",
       "      <td>0.0</td>\n",
       "      <td>6.566967</td>\n",
       "      <td>0.360982</td>\n",
       "      <td>0.0</td>\n",
       "      <td>0.0</td>\n",
       "      <td>...</td>\n",
       "      <td>8.891425</td>\n",
       "      <td>10.373790</td>\n",
       "      <td>7.181162</td>\n",
       "      <td>9.846910</td>\n",
       "      <td>11.922439</td>\n",
       "      <td>9.217749</td>\n",
       "      <td>9.461191</td>\n",
       "      <td>5.110372</td>\n",
       "      <td>0.0</td>\n",
       "      <td>BRCA</td>\n",
       "    </tr>\n",
       "  </tbody>\n",
       "</table>\n",
       "<p>5 rows × 20532 columns</p>\n",
       "</div>"
      ],
      "text/plain": [
       "   gene_0    gene_1    gene_2    gene_3     gene_4  gene_5    gene_6  \\\n",
       "0     0.0  2.017209  3.265527  5.478487  10.431999     0.0  7.175175   \n",
       "1     0.0  0.592732  1.588421  7.586157   9.623011     0.0  6.816049   \n",
       "2     0.0  3.511759  4.327199  6.881787   9.870730     0.0  6.972130   \n",
       "3     0.0  3.663618  4.507649  6.659068  10.196184     0.0  7.843375   \n",
       "4     0.0  2.655741  2.821547  6.539454   9.738265     0.0  6.566967   \n",
       "\n",
       "     gene_7  gene_8  gene_9  ...  gene_20522  gene_20523  gene_20524  \\\n",
       "0  0.591871     0.0     0.0  ...    8.210257    9.723516    7.220030   \n",
       "1  0.000000     0.0     0.0  ...    7.323865    9.740931    6.256586   \n",
       "2  0.452595     0.0     0.0  ...    8.127123   10.908640    5.401607   \n",
       "3  0.434882     0.0     0.0  ...    8.792959   10.141520    8.942805   \n",
       "4  0.360982     0.0     0.0  ...    8.891425   10.373790    7.181162   \n",
       "\n",
       "   gene_20525  gene_20526  gene_20527  gene_20528  gene_20529  gene_20530  \\\n",
       "0    9.119813   12.003135    9.650743    8.921326    5.286759         0.0   \n",
       "1    8.381612   12.674552   10.517059    9.397854    2.094168         0.0   \n",
       "2    9.911597    9.045255    9.788359   10.090470    1.683023         0.0   \n",
       "3    9.601208   11.392682    9.694814    9.684365    3.292001         0.0   \n",
       "4    9.846910   11.922439    9.217749    9.461191    5.110372         0.0   \n",
       "\n",
       "   Class  \n",
       "0   PRAD  \n",
       "1   LUAD  \n",
       "2   PRAD  \n",
       "3   PRAD  \n",
       "4   BRCA  \n",
       "\n",
       "[5 rows x 20532 columns]"
      ]
     },
     "execution_count": 8,
     "metadata": {},
     "output_type": "execute_result"
    }
   ],
   "source": [
    "df = df.drop(['sample_id'], axis=1)\n",
    "df.head()"
   ]
  },
  {
   "cell_type": "code",
   "execution_count": 9,
   "id": "89d915d2",
   "metadata": {
    "execution": {
     "iopub.execute_input": "2025-03-31T12:43:26.003424Z",
     "iopub.status.busy": "2025-03-31T12:43:26.003091Z",
     "iopub.status.idle": "2025-03-31T12:43:26.076335Z",
     "shell.execute_reply": "2025-03-31T12:43:26.075343Z"
    },
    "papermill": {
     "duration": 0.085803,
     "end_time": "2025-03-31T12:43:26.077908",
     "exception": false,
     "start_time": "2025-03-31T12:43:25.992105",
     "status": "completed"
    },
    "tags": []
   },
   "outputs": [
    {
     "data": {
      "text/plain": [
       "np.int64(0)"
      ]
     },
     "execution_count": 9,
     "metadata": {},
     "output_type": "execute_result"
    }
   ],
   "source": [
    "# getting NaN across dataset\n",
    "df.isna().sum().sum()"
   ]
  },
  {
   "cell_type": "code",
   "execution_count": 10,
   "id": "04d546ba",
   "metadata": {
    "execution": {
     "iopub.execute_input": "2025-03-31T12:43:26.099456Z",
     "iopub.status.busy": "2025-03-31T12:43:26.099091Z",
     "iopub.status.idle": "2025-03-31T12:43:29.983684Z",
     "shell.execute_reply": "2025-03-31T12:43:29.982576Z"
    },
    "papermill": {
     "duration": 3.897513,
     "end_time": "2025-03-31T12:43:29.985536",
     "exception": false,
     "start_time": "2025-03-31T12:43:26.088023",
     "status": "completed"
    },
    "tags": []
   },
   "outputs": [
    {
     "data": {
      "text/plain": [
       "np.int64(0)"
      ]
     },
     "execution_count": 10,
     "metadata": {},
     "output_type": "execute_result"
    }
   ],
   "source": [
    "df.duplicated().sum()"
   ]
  },
  {
   "cell_type": "markdown",
   "id": "2881a556",
   "metadata": {
    "papermill": {
     "duration": 0.010283,
     "end_time": "2025-03-31T12:43:30.007119",
     "exception": false,
     "start_time": "2025-03-31T12:43:29.996836",
     "status": "completed"
    },
    "tags": []
   },
   "source": [
    "## **Encoding and Scaling Features**"
   ]
  },
  {
   "cell_type": "code",
   "execution_count": 11,
   "id": "c2dbe4e0",
   "metadata": {
    "execution": {
     "iopub.execute_input": "2025-03-31T12:43:30.029744Z",
     "iopub.status.busy": "2025-03-31T12:43:30.029254Z",
     "iopub.status.idle": "2025-03-31T12:43:30.092616Z",
     "shell.execute_reply": "2025-03-31T12:43:30.091612Z"
    },
    "papermill": {
     "duration": 0.077331,
     "end_time": "2025-03-31T12:43:30.094942",
     "exception": false,
     "start_time": "2025-03-31T12:43:30.017611",
     "status": "completed"
    },
    "tags": []
   },
   "outputs": [],
   "source": [
    "X = df.iloc[:, :-1]  \n",
    "y = df.iloc[:, -1]"
   ]
  },
  {
   "cell_type": "markdown",
   "id": "deff8f25",
   "metadata": {
    "papermill": {
     "duration": 0.010123,
     "end_time": "2025-03-31T12:43:30.115700",
     "exception": false,
     "start_time": "2025-03-31T12:43:30.105577",
     "status": "completed"
    },
    "tags": []
   },
   "source": [
    "### **Encoding categorical columns**"
   ]
  },
  {
   "cell_type": "code",
   "execution_count": 12,
   "id": "a84cc90c",
   "metadata": {
    "execution": {
     "iopub.execute_input": "2025-03-31T12:43:30.137628Z",
     "iopub.status.busy": "2025-03-31T12:43:30.137239Z",
     "iopub.status.idle": "2025-03-31T12:43:31.592851Z",
     "shell.execute_reply": "2025-03-31T12:43:31.591871Z"
    },
    "papermill": {
     "duration": 1.468826,
     "end_time": "2025-03-31T12:43:31.594858",
     "exception": false,
     "start_time": "2025-03-31T12:43:30.126032",
     "status": "completed"
    },
    "tags": []
   },
   "outputs": [],
   "source": [
    "from sklearn.preprocessing import LabelEncoder\n",
    "\n",
    "label_encoder = LabelEncoder()\n",
    "y = label_encoder.fit_transform(y)"
   ]
  },
  {
   "cell_type": "markdown",
   "id": "f774c35d",
   "metadata": {
    "papermill": {
     "duration": 0.009853,
     "end_time": "2025-03-31T12:43:31.615273",
     "exception": false,
     "start_time": "2025-03-31T12:43:31.605420",
     "status": "completed"
    },
    "tags": []
   },
   "source": [
    "### **Scaling numerical features**"
   ]
  },
  {
   "cell_type": "code",
   "execution_count": 13,
   "id": "26628985",
   "metadata": {
    "execution": {
     "iopub.execute_input": "2025-03-31T12:43:31.636879Z",
     "iopub.status.busy": "2025-03-31T12:43:31.636320Z",
     "iopub.status.idle": "2025-03-31T12:43:32.397457Z",
     "shell.execute_reply": "2025-03-31T12:43:32.396541Z"
    },
    "papermill": {
     "duration": 0.773866,
     "end_time": "2025-03-31T12:43:32.399342",
     "exception": false,
     "start_time": "2025-03-31T12:43:31.625476",
     "status": "completed"
    },
    "tags": []
   },
   "outputs": [],
   "source": [
    "from sklearn.preprocessing import StandardScaler\n",
    "\n",
    "# Standardization (Mean = 0, Std Dev = 1)\n",
    "scaler_standard = StandardScaler()\n",
    "X = pd.DataFrame(scaler_standard.fit_transform(X), columns=X.columns)"
   ]
  },
  {
   "cell_type": "markdown",
   "id": "92781b13",
   "metadata": {
    "papermill": {
     "duration": 0.010314,
     "end_time": "2025-03-31T12:43:32.420301",
     "exception": false,
     "start_time": "2025-03-31T12:43:32.409987",
     "status": "completed"
    },
    "tags": []
   },
   "source": [
    "## **Test Train Split**"
   ]
  },
  {
   "cell_type": "code",
   "execution_count": 14,
   "id": "4c9b402b",
   "metadata": {
    "execution": {
     "iopub.execute_input": "2025-03-31T12:43:32.441921Z",
     "iopub.status.busy": "2025-03-31T12:43:32.441569Z",
     "iopub.status.idle": "2025-03-31T12:43:32.653174Z",
     "shell.execute_reply": "2025-03-31T12:43:32.652124Z"
    },
    "papermill": {
     "duration": 0.224282,
     "end_time": "2025-03-31T12:43:32.654925",
     "exception": false,
     "start_time": "2025-03-31T12:43:32.430643",
     "status": "completed"
    },
    "tags": []
   },
   "outputs": [
    {
     "name": "stdout",
     "output_type": "stream",
     "text": [
      "X_train size:640\n",
      "X_test size:161\n"
     ]
    }
   ],
   "source": [
    "from sklearn.model_selection import train_test_split\n",
    "\n",
    "# Split data into CV and rest\n",
    "X_train, X_test, y_train, y_test = train_test_split(X, y, test_size=0.2, random_state=42)\n",
    "\n",
    "print(f'X_train size:{X_train.shape[0]}')\n",
    "print(f'X_test size:{X_test.shape[0]}')"
   ]
  },
  {
   "cell_type": "markdown",
   "id": "d446795b",
   "metadata": {
    "papermill": {
     "duration": 0.009737,
     "end_time": "2025-03-31T12:43:32.674843",
     "exception": false,
     "start_time": "2025-03-31T12:43:32.665106",
     "status": "completed"
    },
    "tags": []
   },
   "source": [
    "## **Feature Selection**"
   ]
  },
  {
   "cell_type": "markdown",
   "id": "ef4de1a0",
   "metadata": {
    "papermill": {
     "duration": 0.009784,
     "end_time": "2025-03-31T12:43:32.694601",
     "exception": false,
     "start_time": "2025-03-31T12:43:32.684817",
     "status": "completed"
    },
    "tags": []
   },
   "source": [
    "- **Using `XGBoost` to select top 100 relevant genes**</br>\n",
    "We are starting with `100` here and then we will decrease to the lowest possible number of features for optimization!"
   ]
  },
  {
   "cell_type": "code",
   "execution_count": 15,
   "id": "ab2aca77",
   "metadata": {
    "execution": {
     "iopub.execute_input": "2025-03-31T12:43:32.715930Z",
     "iopub.status.busy": "2025-03-31T12:43:32.715589Z",
     "iopub.status.idle": "2025-03-31T12:44:50.763573Z",
     "shell.execute_reply": "2025-03-31T12:44:50.762588Z"
    },
    "papermill": {
     "duration": 78.060896,
     "end_time": "2025-03-31T12:44:50.765546",
     "exception": false,
     "start_time": "2025-03-31T12:43:32.704650",
     "status": "completed"
    },
    "tags": []
   },
   "outputs": [],
   "source": [
    "import xgboost as xgb\n",
    "\n",
    "# Train XGBoost model\n",
    "xgb_model = xgb.XGBClassifier(n_estimators=100, importance_type='gain', random_state=42)\n",
    "xgb_model.fit(X_train, y_train)\n",
    "\n",
    "# Get feature importance scores\n",
    "feature_importances = xgb_model.feature_importances_\n",
    "importance_df = pd.DataFrame({'Feature': X_train.columns, 'Importance': feature_importances})\n",
    "importance_df = importance_df.sort_values(by='Importance', ascending=False)\n",
    "\n",
    "# Select top 100 features\n",
    "top_100_features = importance_df.head(100)['Feature'].tolist()"
   ]
  },
  {
   "cell_type": "markdown",
   "id": "ae84b522",
   "metadata": {
    "papermill": {
     "duration": 0.010579,
     "end_time": "2025-03-31T12:44:50.786970",
     "exception": false,
     "start_time": "2025-03-31T12:44:50.776391",
     "status": "completed"
    },
    "tags": []
   },
   "source": [
    "- **Reframing dataframe by selecting only the top 100 features in the RNA sequence**"
   ]
  },
  {
   "cell_type": "code",
   "execution_count": 16,
   "id": "43ea38fa",
   "metadata": {
    "execution": {
     "iopub.execute_input": "2025-03-31T12:44:50.808493Z",
     "iopub.status.busy": "2025-03-31T12:44:50.808088Z",
     "iopub.status.idle": "2025-03-31T12:44:50.833399Z",
     "shell.execute_reply": "2025-03-31T12:44:50.832277Z"
    },
    "papermill": {
     "duration": 0.038183,
     "end_time": "2025-03-31T12:44:50.835175",
     "exception": false,
     "start_time": "2025-03-31T12:44:50.796992",
     "status": "completed"
    },
    "tags": []
   },
   "outputs": [
    {
     "data": {
      "text/html": [
       "<div>\n",
       "<style scoped>\n",
       "    .dataframe tbody tr th:only-of-type {\n",
       "        vertical-align: middle;\n",
       "    }\n",
       "\n",
       "    .dataframe tbody tr th {\n",
       "        vertical-align: top;\n",
       "    }\n",
       "\n",
       "    .dataframe thead th {\n",
       "        text-align: right;\n",
       "    }\n",
       "</style>\n",
       "<table border=\"1\" class=\"dataframe\">\n",
       "  <thead>\n",
       "    <tr style=\"text-align: right;\">\n",
       "      <th></th>\n",
       "      <th>gene_6733</th>\n",
       "      <th>gene_15895</th>\n",
       "      <th>gene_12983</th>\n",
       "      <th>gene_18746</th>\n",
       "      <th>gene_17801</th>\n",
       "      <th>gene_9176</th>\n",
       "      <th>gene_15898</th>\n",
       "      <th>gene_12013</th>\n",
       "      <th>gene_1858</th>\n",
       "      <th>gene_9394</th>\n",
       "      <th>...</th>\n",
       "      <th>gene_20490</th>\n",
       "      <th>gene_20491</th>\n",
       "      <th>gene_20492</th>\n",
       "      <th>gene_20493</th>\n",
       "      <th>gene_20494</th>\n",
       "      <th>gene_20495</th>\n",
       "      <th>gene_20496</th>\n",
       "      <th>gene_20497</th>\n",
       "      <th>gene_17</th>\n",
       "      <th>gene_51</th>\n",
       "    </tr>\n",
       "  </thead>\n",
       "  <tbody>\n",
       "    <tr>\n",
       "      <th>0</th>\n",
       "      <td>-0.311731</td>\n",
       "      <td>-0.497211</td>\n",
       "      <td>0.421090</td>\n",
       "      <td>-0.857174</td>\n",
       "      <td>1.206176</td>\n",
       "      <td>2.180308</td>\n",
       "      <td>-0.389543</td>\n",
       "      <td>0.369630</td>\n",
       "      <td>-0.622982</td>\n",
       "      <td>0.442717</td>\n",
       "      <td>...</td>\n",
       "      <td>-0.960632</td>\n",
       "      <td>-0.840882</td>\n",
       "      <td>0.169336</td>\n",
       "      <td>-0.603425</td>\n",
       "      <td>0.318302</td>\n",
       "      <td>-0.490342</td>\n",
       "      <td>-2.018774</td>\n",
       "      <td>-0.407544</td>\n",
       "      <td>-0.184792</td>\n",
       "      <td>1.847034</td>\n",
       "    </tr>\n",
       "    <tr>\n",
       "      <th>1</th>\n",
       "      <td>-0.339895</td>\n",
       "      <td>1.965816</td>\n",
       "      <td>-0.026033</td>\n",
       "      <td>-0.630027</td>\n",
       "      <td>0.192569</td>\n",
       "      <td>-0.590265</td>\n",
       "      <td>1.701467</td>\n",
       "      <td>0.380729</td>\n",
       "      <td>-0.622982</td>\n",
       "      <td>1.802403</td>\n",
       "      <td>...</td>\n",
       "      <td>1.005762</td>\n",
       "      <td>-1.809410</td>\n",
       "      <td>-0.844441</td>\n",
       "      <td>1.220751</td>\n",
       "      <td>-1.231177</td>\n",
       "      <td>-0.490342</td>\n",
       "      <td>-1.647936</td>\n",
       "      <td>-0.887341</td>\n",
       "      <td>-0.184792</td>\n",
       "      <td>-0.251261</td>\n",
       "    </tr>\n",
       "    <tr>\n",
       "      <th>2</th>\n",
       "      <td>-0.628306</td>\n",
       "      <td>-0.497211</td>\n",
       "      <td>-1.512761</td>\n",
       "      <td>0.325825</td>\n",
       "      <td>-1.078876</td>\n",
       "      <td>1.810667</td>\n",
       "      <td>-0.433854</td>\n",
       "      <td>-0.028197</td>\n",
       "      <td>-0.622982</td>\n",
       "      <td>-1.675477</td>\n",
       "      <td>...</td>\n",
       "      <td>0.186000</td>\n",
       "      <td>1.117361</td>\n",
       "      <td>0.302296</td>\n",
       "      <td>-1.120944</td>\n",
       "      <td>-2.839086</td>\n",
       "      <td>-0.490342</td>\n",
       "      <td>-1.143302</td>\n",
       "      <td>-1.353195</td>\n",
       "      <td>-0.184792</td>\n",
       "      <td>-0.329025</td>\n",
       "    </tr>\n",
       "    <tr>\n",
       "      <th>3</th>\n",
       "      <td>-0.921521</td>\n",
       "      <td>-0.497211</td>\n",
       "      <td>-1.433925</td>\n",
       "      <td>-0.152254</td>\n",
       "      <td>0.314098</td>\n",
       "      <td>2.157371</td>\n",
       "      <td>-0.542754</td>\n",
       "      <td>0.088941</td>\n",
       "      <td>-0.622982</td>\n",
       "      <td>-0.229806</td>\n",
       "      <td>...</td>\n",
       "      <td>-0.747283</td>\n",
       "      <td>0.558397</td>\n",
       "      <td>-0.800627</td>\n",
       "      <td>1.280578</td>\n",
       "      <td>-1.214949</td>\n",
       "      <td>0.083985</td>\n",
       "      <td>-1.206031</td>\n",
       "      <td>1.890636</td>\n",
       "      <td>-0.184792</td>\n",
       "      <td>-0.430241</td>\n",
       "    </tr>\n",
       "    <tr>\n",
       "      <th>4</th>\n",
       "      <td>-0.840528</td>\n",
       "      <td>-0.497211</td>\n",
       "      <td>0.068380</td>\n",
       "      <td>1.682592</td>\n",
       "      <td>-0.971919</td>\n",
       "      <td>-0.590265</td>\n",
       "      <td>-0.430193</td>\n",
       "      <td>-0.439292</td>\n",
       "      <td>-0.529396</td>\n",
       "      <td>0.541253</td>\n",
       "      <td>...</td>\n",
       "      <td>0.042669</td>\n",
       "      <td>0.667250</td>\n",
       "      <td>-0.486047</td>\n",
       "      <td>1.026207</td>\n",
       "      <td>-0.146649</td>\n",
       "      <td>-0.013611</td>\n",
       "      <td>-1.163163</td>\n",
       "      <td>-0.137666</td>\n",
       "      <td>-0.184792</td>\n",
       "      <td>0.080840</td>\n",
       "    </tr>\n",
       "  </tbody>\n",
       "</table>\n",
       "<p>5 rows × 100 columns</p>\n",
       "</div>"
      ],
      "text/plain": [
       "   gene_6733  gene_15895  gene_12983  gene_18746  gene_17801  gene_9176  \\\n",
       "0  -0.311731   -0.497211    0.421090   -0.857174    1.206176   2.180308   \n",
       "1  -0.339895    1.965816   -0.026033   -0.630027    0.192569  -0.590265   \n",
       "2  -0.628306   -0.497211   -1.512761    0.325825   -1.078876   1.810667   \n",
       "3  -0.921521   -0.497211   -1.433925   -0.152254    0.314098   2.157371   \n",
       "4  -0.840528   -0.497211    0.068380    1.682592   -0.971919  -0.590265   \n",
       "\n",
       "   gene_15898  gene_12013  gene_1858  gene_9394  ...  gene_20490  gene_20491  \\\n",
       "0   -0.389543    0.369630  -0.622982   0.442717  ...   -0.960632   -0.840882   \n",
       "1    1.701467    0.380729  -0.622982   1.802403  ...    1.005762   -1.809410   \n",
       "2   -0.433854   -0.028197  -0.622982  -1.675477  ...    0.186000    1.117361   \n",
       "3   -0.542754    0.088941  -0.622982  -0.229806  ...   -0.747283    0.558397   \n",
       "4   -0.430193   -0.439292  -0.529396   0.541253  ...    0.042669    0.667250   \n",
       "\n",
       "   gene_20492  gene_20493  gene_20494  gene_20495  gene_20496  gene_20497  \\\n",
       "0    0.169336   -0.603425    0.318302   -0.490342   -2.018774   -0.407544   \n",
       "1   -0.844441    1.220751   -1.231177   -0.490342   -1.647936   -0.887341   \n",
       "2    0.302296   -1.120944   -2.839086   -0.490342   -1.143302   -1.353195   \n",
       "3   -0.800627    1.280578   -1.214949    0.083985   -1.206031    1.890636   \n",
       "4   -0.486047    1.026207   -0.146649   -0.013611   -1.163163   -0.137666   \n",
       "\n",
       "    gene_17   gene_51  \n",
       "0 -0.184792  1.847034  \n",
       "1 -0.184792 -0.251261  \n",
       "2 -0.184792 -0.329025  \n",
       "3 -0.184792 -0.430241  \n",
       "4 -0.184792  0.080840  \n",
       "\n",
       "[5 rows x 100 columns]"
      ]
     },
     "execution_count": 16,
     "metadata": {},
     "output_type": "execute_result"
    }
   ],
   "source": [
    "X = X[top_100_features]\n",
    "X.head()"
   ]
  },
  {
   "cell_type": "markdown",
   "id": "a7aa9ca3",
   "metadata": {
    "papermill": {
     "duration": 0.010819,
     "end_time": "2025-03-31T12:44:50.856797",
     "exception": false,
     "start_time": "2025-03-31T12:44:50.845978",
     "status": "completed"
    },
    "tags": []
   },
   "source": [
    "## **Test Train CV Split**"
   ]
  },
  {
   "cell_type": "code",
   "execution_count": 17,
   "id": "15c60d59",
   "metadata": {
    "execution": {
     "iopub.execute_input": "2025-03-31T12:44:50.879722Z",
     "iopub.status.busy": "2025-03-31T12:44:50.879300Z",
     "iopub.status.idle": "2025-03-31T12:44:50.890448Z",
     "shell.execute_reply": "2025-03-31T12:44:50.889410Z"
    },
    "papermill": {
     "duration": 0.024389,
     "end_time": "2025-03-31T12:44:50.892204",
     "exception": false,
     "start_time": "2025-03-31T12:44:50.867815",
     "status": "completed"
    },
    "tags": []
   },
   "outputs": [
    {
     "name": "stdout",
     "output_type": "stream",
     "text": [
      "X_train size:576\n",
      "X_train size:144\n",
      "X_cv size:81\n"
     ]
    }
   ],
   "source": [
    "X_rem, X_cv, y_rem, y_cv = train_test_split(X, y, test_size=0.1, random_state=42)\n",
    "X_train, X_test, y_train, y_test = train_test_split(X_rem, y_rem, test_size=0.2, random_state=42)\n",
    "\n",
    "print(f'X_train size:{X_train.shape[0]}')\n",
    "print(f'X_train size:{X_test.shape[0]}')\n",
    "print(f'X_cv size:{X_cv.shape[0]}')"
   ]
  },
  {
   "cell_type": "markdown",
   "id": "7444b50c",
   "metadata": {
    "papermill": {
     "duration": 0.010188,
     "end_time": "2025-03-31T12:44:50.913145",
     "exception": false,
     "start_time": "2025-03-31T12:44:50.902957",
     "status": "completed"
    },
    "tags": []
   },
   "source": [
    "# **Model Selection**\n",
    "---"
   ]
  },
  {
   "cell_type": "code",
   "execution_count": 18,
   "id": "de8e6f17",
   "metadata": {
    "execution": {
     "iopub.execute_input": "2025-03-31T12:44:57.706543Z",
     "iopub.status.busy": "2025-03-31T12:44:57.706111Z",
     "iopub.status.idle": "2025-03-31T12:45:07.025534Z",
     "shell.execute_reply": "2025-03-31T12:45:07.024554Z"
    },
    "papermill": {
     "duration": 9.333878,
     "end_time": "2025-03-31T12:45:07.028203",
     "exception": false,
     "start_time": "2025-03-31T12:44:57.694325",
     "status": "completed"
    },
    "tags": []
   },
   "outputs": [
    {
     "name": "stderr",
     "output_type": "stream",
     "text": [
      " 97%|█████████▋| 31/32 [00:02<00:00, 16.88it/s]"
     ]
    },
    {
     "name": "stdout",
     "output_type": "stream",
     "text": [
      "[LightGBM] [Info] Auto-choosing col-wise multi-threading, the overhead of testing was 0.000518 seconds.\n",
      "You can set `force_col_wise=true` to remove the overhead.\n",
      "[LightGBM] [Info] Total Bins 16770\n",
      "[LightGBM] [Info] Number of data points in the train set: 576, number of used features: 100\n",
      "[LightGBM] [Info] Start training from score -0.976210\n",
      "[LightGBM] [Info] Start training from score -2.295665\n",
      "[LightGBM] [Info] Start training from score -1.673976\n",
      "[LightGBM] [Info] Start training from score -1.750937\n",
      "[LightGBM] [Info] Start training from score -1.823508\n",
      "[LightGBM] [Warning] No further splits with positive gain, best gain: -inf\n",
      "[LightGBM] [Warning] No further splits with positive gain, best gain: -inf\n",
      "[LightGBM] [Warning] No further splits with positive gain, best gain: -inf\n",
      "[LightGBM] [Warning] No further splits with positive gain, best gain: -inf\n",
      "[LightGBM] [Warning] No further splits with positive gain, best gain: -inf\n",
      "[LightGBM] [Warning] No further splits with positive gain, best gain: -inf\n",
      "[LightGBM] [Warning] No further splits with positive gain, best gain: -inf\n",
      "[LightGBM] [Warning] No further splits with positive gain, best gain: -inf\n",
      "[LightGBM] [Warning] No further splits with positive gain, best gain: -inf\n",
      "[LightGBM] [Warning] No further splits with positive gain, best gain: -inf\n",
      "[LightGBM] [Warning] No further splits with positive gain, best gain: -inf\n",
      "[LightGBM] [Warning] No further splits with positive gain, best gain: -inf\n",
      "[LightGBM] [Warning] No further splits with positive gain, best gain: -inf\n",
      "[LightGBM] [Warning] No further splits with positive gain, best gain: -inf\n",
      "[LightGBM] [Warning] No further splits with positive gain, best gain: -inf\n",
      "[LightGBM] [Warning] No further splits with positive gain, best gain: -inf\n",
      "[LightGBM] [Warning] No further splits with positive gain, best gain: -inf\n",
      "[LightGBM] [Warning] No further splits with positive gain, best gain: -inf\n",
      "[LightGBM] [Warning] No further splits with positive gain, best gain: -inf\n",
      "[LightGBM] [Warning] No further splits with positive gain, best gain: -inf\n",
      "[LightGBM] [Warning] No further splits with positive gain, best gain: -inf\n",
      "[LightGBM] [Warning] No further splits with positive gain, best gain: -inf\n",
      "[LightGBM] [Warning] No further splits with positive gain, best gain: -inf\n",
      "[LightGBM] [Warning] No further splits with positive gain, best gain: -inf\n",
      "[LightGBM] [Warning] No further splits with positive gain, best gain: -inf\n",
      "[LightGBM] [Warning] No further splits with positive gain, best gain: -inf\n",
      "[LightGBM] [Warning] No further splits with positive gain, best gain: -inf\n",
      "[LightGBM] [Warning] No further splits with positive gain, best gain: -inf\n",
      "[LightGBM] [Warning] No further splits with positive gain, best gain: -inf\n",
      "[LightGBM] [Warning] No further splits with positive gain, best gain: -inf\n",
      "[LightGBM] [Warning] No further splits with positive gain, best gain: -inf\n",
      "[LightGBM] [Warning] No further splits with positive gain, best gain: -inf\n",
      "[LightGBM] [Warning] No further splits with positive gain, best gain: -inf\n",
      "[LightGBM] [Warning] No further splits with positive gain, best gain: -inf\n",
      "[LightGBM] [Warning] No further splits with positive gain, best gain: -inf\n",
      "[LightGBM] [Warning] No further splits with positive gain, best gain: -inf\n",
      "[LightGBM] [Warning] No further splits with positive gain, best gain: -inf\n",
      "[LightGBM] [Warning] No further splits with positive gain, best gain: -inf\n",
      "[LightGBM] [Warning] No further splits with positive gain, best gain: -inf\n",
      "[LightGBM] [Warning] No further splits with positive gain, best gain: -inf\n",
      "[LightGBM] [Warning] No further splits with positive gain, best gain: -inf\n",
      "[LightGBM] [Warning] No further splits with positive gain, best gain: -inf\n",
      "[LightGBM] [Warning] No further splits with positive gain, best gain: -inf\n",
      "[LightGBM] [Warning] No further splits with positive gain, best gain: -inf\n",
      "[LightGBM] [Warning] No further splits with positive gain, best gain: -inf\n",
      "[LightGBM] [Warning] No further splits with positive gain, best gain: -inf\n",
      "[LightGBM] [Warning] No further splits with positive gain, best gain: -inf\n",
      "[LightGBM] [Warning] No further splits with positive gain, best gain: -inf\n",
      "[LightGBM] [Warning] No further splits with positive gain, best gain: -inf\n",
      "[LightGBM] [Warning] No further splits with positive gain, best gain: -inf\n",
      "[LightGBM] [Warning] No further splits with positive gain, best gain: -inf\n",
      "[LightGBM] [Warning] No further splits with positive gain, best gain: -inf\n",
      "[LightGBM] [Warning] No further splits with positive gain, best gain: -inf\n",
      "[LightGBM] [Warning] No further splits with positive gain, best gain: -inf\n",
      "[LightGBM] [Warning] No further splits with positive gain, best gain: -inf\n",
      "[LightGBM] [Warning] No further splits with positive gain, best gain: -inf\n",
      "[LightGBM] [Warning] No further splits with positive gain, best gain: -inf\n",
      "[LightGBM] [Warning] No further splits with positive gain, best gain: -inf\n",
      "[LightGBM] [Warning] No further splits with positive gain, best gain: -inf\n",
      "[LightGBM] [Warning] No further splits with positive gain, best gain: -inf\n",
      "[LightGBM] [Warning] No further splits with positive gain, best gain: -inf\n",
      "[LightGBM] [Warning] No further splits with positive gain, best gain: -inf\n",
      "[LightGBM] [Warning] No further splits with positive gain, best gain: -inf\n",
      "[LightGBM] [Warning] No further splits with positive gain, best gain: -inf\n",
      "[LightGBM] [Warning] No further splits with positive gain, best gain: -inf\n",
      "[LightGBM] [Warning] No further splits with positive gain, best gain: -inf\n",
      "[LightGBM] [Warning] No further splits with positive gain, best gain: -inf\n",
      "[LightGBM] [Warning] No further splits with positive gain, best gain: -inf\n",
      "[LightGBM] [Warning] No further splits with positive gain, best gain: -inf\n",
      "[LightGBM] [Warning] No further splits with positive gain, best gain: -inf\n",
      "[LightGBM] [Warning] No further splits with positive gain, best gain: -inf\n",
      "[LightGBM] [Warning] No further splits with positive gain, best gain: -inf\n",
      "[LightGBM] [Warning] No further splits with positive gain, best gain: -inf\n",
      "[LightGBM] [Warning] No further splits with positive gain, best gain: -inf\n",
      "[LightGBM] [Warning] No further splits with positive gain, best gain: -inf\n",
      "[LightGBM] [Warning] No further splits with positive gain, best gain: -inf\n",
      "[LightGBM] [Warning] No further splits with positive gain, best gain: -inf\n",
      "[LightGBM] [Warning] No further splits with positive gain, best gain: -inf\n",
      "[LightGBM] [Warning] No further splits with positive gain, best gain: -inf\n",
      "[LightGBM] [Warning] No further splits with positive gain, best gain: -inf\n",
      "[LightGBM] [Warning] No further splits with positive gain, best gain: -inf\n",
      "[LightGBM] [Warning] No further splits with positive gain, best gain: -inf\n",
      "[LightGBM] [Warning] No further splits with positive gain, best gain: -inf\n",
      "[LightGBM] [Warning] No further splits with positive gain, best gain: -inf\n",
      "[LightGBM] [Warning] No further splits with positive gain, best gain: -inf\n",
      "[LightGBM] [Warning] No further splits with positive gain, best gain: -inf\n",
      "[LightGBM] [Warning] No further splits with positive gain, best gain: -inf\n",
      "[LightGBM] [Warning] No further splits with positive gain, best gain: -inf\n",
      "[LightGBM] [Warning] No further splits with positive gain, best gain: -inf\n",
      "[LightGBM] [Warning] No further splits with positive gain, best gain: -inf\n",
      "[LightGBM] [Warning] No further splits with positive gain, best gain: -inf\n",
      "[LightGBM] [Warning] No further splits with positive gain, best gain: -inf\n",
      "[LightGBM] [Warning] No further splits with positive gain, best gain: -inf\n",
      "[LightGBM] [Warning] No further splits with positive gain, best gain: -inf\n",
      "[LightGBM] [Warning] No further splits with positive gain, best gain: -inf\n",
      "[LightGBM] [Warning] No further splits with positive gain, best gain: -inf\n",
      "[LightGBM] [Warning] No further splits with positive gain, best gain: -inf\n",
      "[LightGBM] [Warning] No further splits with positive gain, best gain: -inf\n",
      "[LightGBM] [Warning] No further splits with positive gain, best gain: -inf\n",
      "[LightGBM] [Warning] No further splits with positive gain, best gain: -inf\n",
      "[LightGBM] [Warning] No further splits with positive gain, best gain: -inf\n",
      "[LightGBM] [Warning] No further splits with positive gain, best gain: -inf\n",
      "[LightGBM] [Warning] No further splits with positive gain, best gain: -inf\n",
      "[LightGBM] [Warning] No further splits with positive gain, best gain: -inf\n",
      "[LightGBM] [Warning] No further splits with positive gain, best gain: -inf\n",
      "[LightGBM] [Warning] No further splits with positive gain, best gain: -inf\n",
      "[LightGBM] [Warning] No further splits with positive gain, best gain: -inf\n",
      "[LightGBM] [Warning] No further splits with positive gain, best gain: -inf\n",
      "[LightGBM] [Warning] No further splits with positive gain, best gain: -inf\n",
      "[LightGBM] [Warning] No further splits with positive gain, best gain: -inf\n",
      "[LightGBM] [Warning] No further splits with positive gain, best gain: -inf\n",
      "[LightGBM] [Warning] No further splits with positive gain, best gain: -inf\n",
      "[LightGBM] [Warning] No further splits with positive gain, best gain: -inf\n",
      "[LightGBM] [Warning] No further splits with positive gain, best gain: -inf\n",
      "[LightGBM] [Warning] No further splits with positive gain, best gain: -inf\n",
      "[LightGBM] [Warning] No further splits with positive gain, best gain: -inf\n",
      "[LightGBM] [Warning] No further splits with positive gain, best gain: -inf\n",
      "[LightGBM] [Warning] No further splits with positive gain, best gain: -inf\n",
      "[LightGBM] [Warning] No further splits with positive gain, best gain: -inf\n",
      "[LightGBM] [Warning] No further splits with positive gain, best gain: -inf\n",
      "[LightGBM] [Warning] No further splits with positive gain, best gain: -inf\n",
      "[LightGBM] [Warning] No further splits with positive gain, best gain: -inf\n",
      "[LightGBM] [Warning] No further splits with positive gain, best gain: -inf\n",
      "[LightGBM] [Warning] No further splits with positive gain, best gain: -inf\n",
      "[LightGBM] [Warning] No further splits with positive gain, best gain: -inf\n",
      "[LightGBM] [Warning] No further splits with positive gain, best gain: -inf\n",
      "[LightGBM] [Warning] No further splits with positive gain, best gain: -inf\n",
      "[LightGBM] [Warning] No further splits with positive gain, best gain: -inf\n",
      "[LightGBM] [Warning] No further splits with positive gain, best gain: -inf\n",
      "[LightGBM] [Warning] No further splits with positive gain, best gain: -inf\n",
      "[LightGBM] [Warning] No further splits with positive gain, best gain: -inf\n",
      "[LightGBM] [Warning] No further splits with positive gain, best gain: -inf\n",
      "[LightGBM] [Warning] No further splits with positive gain, best gain: -inf\n",
      "[LightGBM] [Warning] No further splits with positive gain, best gain: -inf\n",
      "[LightGBM] [Warning] No further splits with positive gain, best gain: -inf\n",
      "[LightGBM] [Warning] No further splits with positive gain, best gain: -inf\n",
      "[LightGBM] [Warning] No further splits with positive gain, best gain: -inf\n",
      "[LightGBM] [Warning] No further splits with positive gain, best gain: -inf\n",
      "[LightGBM] [Warning] No further splits with positive gain, best gain: -inf\n",
      "[LightGBM] [Warning] No further splits with positive gain, best gain: -inf\n",
      "[LightGBM] [Warning] No further splits with positive gain, best gain: -inf\n",
      "[LightGBM] [Warning] No further splits with positive gain, best gain: -inf\n",
      "[LightGBM] [Warning] No further splits with positive gain, best gain: -inf\n",
      "[LightGBM] [Warning] No further splits with positive gain, best gain: -inf\n",
      "[LightGBM] [Warning] No further splits with positive gain, best gain: -inf\n",
      "[LightGBM] [Warning] No further splits with positive gain, best gain: -inf\n",
      "[LightGBM] [Warning] No further splits with positive gain, best gain: -inf\n",
      "[LightGBM] [Warning] No further splits with positive gain, best gain: -inf\n",
      "[LightGBM] [Warning] No further splits with positive gain, best gain: -inf\n",
      "[LightGBM] [Warning] No further splits with positive gain, best gain: -inf\n",
      "[LightGBM] [Warning] No further splits with positive gain, best gain: -inf\n",
      "[LightGBM] [Warning] No further splits with positive gain, best gain: -inf\n",
      "[LightGBM] [Warning] No further splits with positive gain, best gain: -inf\n",
      "[LightGBM] [Warning] No further splits with positive gain, best gain: -inf\n",
      "[LightGBM] [Warning] No further splits with positive gain, best gain: -inf\n",
      "[LightGBM] [Warning] No further splits with positive gain, best gain: -inf\n",
      "[LightGBM] [Warning] No further splits with positive gain, best gain: -inf\n",
      "[LightGBM] [Warning] No further splits with positive gain, best gain: -inf\n",
      "[LightGBM] [Warning] No further splits with positive gain, best gain: -inf\n",
      "[LightGBM] [Warning] No further splits with positive gain, best gain: -inf\n",
      "[LightGBM] [Warning] No further splits with positive gain, best gain: -inf\n",
      "[LightGBM] [Warning] No further splits with positive gain, best gain: -inf\n",
      "[LightGBM] [Warning] No further splits with positive gain, best gain: -inf\n",
      "[LightGBM] [Warning] No further splits with positive gain, best gain: -inf\n",
      "[LightGBM] [Warning] No further splits with positive gain, best gain: -inf\n",
      "[LightGBM] [Warning] No further splits with positive gain, best gain: -inf\n",
      "[LightGBM] [Warning] No further splits with positive gain, best gain: -inf\n",
      "[LightGBM] [Warning] No further splits with positive gain, best gain: -inf\n",
      "[LightGBM] [Warning] No further splits with positive gain, best gain: -inf\n",
      "[LightGBM] [Warning] No further splits with positive gain, best gain: -inf\n",
      "[LightGBM] [Warning] No further splits with positive gain, best gain: -inf\n",
      "[LightGBM] [Warning] No further splits with positive gain, best gain: -inf\n",
      "[LightGBM] [Warning] No further splits with positive gain, best gain: -inf\n",
      "[LightGBM] [Warning] No further splits with positive gain, best gain: -inf\n",
      "[LightGBM] [Warning] No further splits with positive gain, best gain: -inf\n",
      "[LightGBM] [Warning] No further splits with positive gain, best gain: -inf\n",
      "[LightGBM] [Warning] No further splits with positive gain, best gain: -inf\n",
      "[LightGBM] [Warning] No further splits with positive gain, best gain: -inf\n",
      "[LightGBM] [Warning] No further splits with positive gain, best gain: -inf\n",
      "[LightGBM] [Warning] No further splits with positive gain, best gain: -inf\n",
      "[LightGBM] [Warning] No further splits with positive gain, best gain: -inf\n",
      "[LightGBM] [Warning] No further splits with positive gain, best gain: -inf\n",
      "[LightGBM] [Warning] No further splits with positive gain, best gain: -inf\n",
      "[LightGBM] [Warning] No further splits with positive gain, best gain: -inf\n",
      "[LightGBM] [Warning] No further splits with positive gain, best gain: -inf\n",
      "[LightGBM] [Warning] No further splits with positive gain, best gain: -inf\n",
      "[LightGBM] [Warning] No further splits with positive gain, best gain: -inf\n",
      "[LightGBM] [Warning] No further splits with positive gain, best gain: -inf\n",
      "[LightGBM] [Warning] No further splits with positive gain, best gain: -inf\n",
      "[LightGBM] [Warning] No further splits with positive gain, best gain: -inf\n",
      "[LightGBM] [Warning] No further splits with positive gain, best gain: -inf\n",
      "[LightGBM] [Warning] No further splits with positive gain, best gain: -inf\n",
      "[LightGBM] [Warning] No further splits with positive gain, best gain: -inf\n",
      "[LightGBM] [Warning] No further splits with positive gain, best gain: -inf\n",
      "[LightGBM] [Warning] No further splits with positive gain, best gain: -inf\n",
      "[LightGBM] [Warning] No further splits with positive gain, best gain: -inf\n",
      "[LightGBM] [Warning] No further splits with positive gain, best gain: -inf\n",
      "[LightGBM] [Warning] No further splits with positive gain, best gain: -inf\n",
      "[LightGBM] [Warning] No further splits with positive gain, best gain: -inf\n",
      "[LightGBM] [Warning] No further splits with positive gain, best gain: -inf\n",
      "[LightGBM] [Warning] No further splits with positive gain, best gain: -inf\n",
      "[LightGBM] [Warning] No further splits with positive gain, best gain: -inf\n",
      "[LightGBM] [Warning] No further splits with positive gain, best gain: -inf\n",
      "[LightGBM] [Warning] No further splits with positive gain, best gain: -inf\n",
      "[LightGBM] [Warning] No further splits with positive gain, best gain: -inf\n",
      "[LightGBM] [Warning] No further splits with positive gain, best gain: -inf\n",
      "[LightGBM] [Warning] No further splits with positive gain, best gain: -inf\n",
      "[LightGBM] [Warning] No further splits with positive gain, best gain: -inf\n",
      "[LightGBM] [Warning] No further splits with positive gain, best gain: -inf\n",
      "[LightGBM] [Warning] No further splits with positive gain, best gain: -inf\n",
      "[LightGBM] [Warning] No further splits with positive gain, best gain: -inf\n",
      "[LightGBM] [Warning] No further splits with positive gain, best gain: -inf\n",
      "[LightGBM] [Warning] No further splits with positive gain, best gain: -inf\n",
      "[LightGBM] [Warning] No further splits with positive gain, best gain: -inf\n",
      "[LightGBM] [Warning] No further splits with positive gain, best gain: -inf\n",
      "[LightGBM] [Warning] No further splits with positive gain, best gain: -inf\n",
      "[LightGBM] [Warning] No further splits with positive gain, best gain: -inf\n",
      "[LightGBM] [Warning] No further splits with positive gain, best gain: -inf\n",
      "[LightGBM] [Warning] No further splits with positive gain, best gain: -inf\n",
      "[LightGBM] [Warning] No further splits with positive gain, best gain: -inf\n",
      "[LightGBM] [Warning] No further splits with positive gain, best gain: -inf\n",
      "[LightGBM] [Warning] No further splits with positive gain, best gain: -inf\n",
      "[LightGBM] [Warning] No further splits with positive gain, best gain: -inf\n",
      "[LightGBM] [Warning] No further splits with positive gain, best gain: -inf\n",
      "[LightGBM] [Warning] No further splits with positive gain, best gain: -inf\n",
      "[LightGBM] [Warning] No further splits with positive gain, best gain: -inf\n",
      "[LightGBM] [Warning] No further splits with positive gain, best gain: -inf\n",
      "[LightGBM] [Warning] No further splits with positive gain, best gain: -inf\n",
      "[LightGBM] [Warning] No further splits with positive gain, best gain: -inf\n",
      "[LightGBM] [Warning] No further splits with positive gain, best gain: -inf\n",
      "[LightGBM] [Warning] No further splits with positive gain, best gain: -inf\n",
      "[LightGBM] [Warning] No further splits with positive gain, best gain: -inf\n",
      "[LightGBM] [Warning] No further splits with positive gain, best gain: -inf\n",
      "[LightGBM] [Warning] No further splits with positive gain, best gain: -inf\n",
      "[LightGBM] [Warning] No further splits with positive gain, best gain: -inf\n",
      "[LightGBM] [Warning] No further splits with positive gain, best gain: -inf\n",
      "[LightGBM] [Warning] No further splits with positive gain, best gain: -inf\n",
      "[LightGBM] [Warning] No further splits with positive gain, best gain: -inf\n",
      "[LightGBM] [Warning] No further splits with positive gain, best gain: -inf\n",
      "[LightGBM] [Warning] No further splits with positive gain, best gain: -inf\n",
      "[LightGBM] [Warning] No further splits with positive gain, best gain: -inf\n",
      "[LightGBM] [Warning] No further splits with positive gain, best gain: -inf\n",
      "[LightGBM] [Warning] No further splits with positive gain, best gain: -inf\n",
      "[LightGBM] [Warning] No further splits with positive gain, best gain: -inf\n",
      "[LightGBM] [Warning] No further splits with positive gain, best gain: -inf\n",
      "[LightGBM] [Warning] No further splits with positive gain, best gain: -inf\n",
      "[LightGBM] [Warning] No further splits with positive gain, best gain: -inf\n",
      "[LightGBM] [Warning] No further splits with positive gain, best gain: -inf\n",
      "[LightGBM] [Warning] No further splits with positive gain, best gain: -inf\n",
      "[LightGBM] [Warning] No further splits with positive gain, best gain: -inf\n",
      "[LightGBM] [Warning] No further splits with positive gain, best gain: -inf\n",
      "[LightGBM] [Warning] No further splits with positive gain, best gain: -inf\n",
      "[LightGBM] [Warning] No further splits with positive gain, best gain: -inf\n",
      "[LightGBM] [Warning] No further splits with positive gain, best gain: -inf\n",
      "[LightGBM] [Warning] No further splits with positive gain, best gain: -inf\n",
      "[LightGBM] [Warning] No further splits with positive gain, best gain: -inf\n",
      "[LightGBM] [Warning] No further splits with positive gain, best gain: -inf\n",
      "[LightGBM] [Warning] No further splits with positive gain, best gain: -inf\n",
      "[LightGBM] [Warning] No further splits with positive gain, best gain: -inf\n",
      "[LightGBM] [Warning] No further splits with positive gain, best gain: -inf\n",
      "[LightGBM] [Warning] No further splits with positive gain, best gain: -inf\n",
      "[LightGBM] [Warning] No further splits with positive gain, best gain: -inf\n",
      "[LightGBM] [Warning] No further splits with positive gain, best gain: -inf\n",
      "[LightGBM] [Warning] No further splits with positive gain, best gain: -inf\n",
      "[LightGBM] [Warning] No further splits with positive gain, best gain: -inf\n",
      "[LightGBM] [Warning] No further splits with positive gain, best gain: -inf\n",
      "[LightGBM] [Warning] No further splits with positive gain, best gain: -inf\n",
      "[LightGBM] [Warning] No further splits with positive gain, best gain: -inf\n",
      "[LightGBM] [Warning] No further splits with positive gain, best gain: -inf\n",
      "[LightGBM] [Warning] No further splits with positive gain, best gain: -inf\n",
      "[LightGBM] [Warning] No further splits with positive gain, best gain: -inf\n",
      "[LightGBM] [Warning] No further splits with positive gain, best gain: -inf\n",
      "[LightGBM] [Warning] No further splits with positive gain, best gain: -inf\n",
      "[LightGBM] [Warning] No further splits with positive gain, best gain: -inf\n",
      "[LightGBM] [Warning] No further splits with positive gain, best gain: -inf\n",
      "[LightGBM] [Warning] No further splits with positive gain, best gain: -inf\n",
      "[LightGBM] [Warning] No further splits with positive gain, best gain: -inf\n",
      "[LightGBM] [Warning] No further splits with positive gain, best gain: -inf\n",
      "[LightGBM] [Warning] No further splits with positive gain, best gain: -inf\n",
      "[LightGBM] [Warning] No further splits with positive gain, best gain: -inf\n",
      "[LightGBM] [Warning] No further splits with positive gain, best gain: -inf\n",
      "[LightGBM] [Warning] No further splits with positive gain, best gain: -inf\n",
      "[LightGBM] [Warning] No further splits with positive gain, best gain: -inf\n",
      "[LightGBM] [Warning] No further splits with positive gain, best gain: -inf\n",
      "[LightGBM] [Warning] No further splits with positive gain, best gain: -inf\n",
      "[LightGBM] [Warning] No further splits with positive gain, best gain: -inf\n",
      "[LightGBM] [Warning] No further splits with positive gain, best gain: -inf\n",
      "[LightGBM] [Warning] No further splits with positive gain, best gain: -inf\n",
      "[LightGBM] [Warning] No further splits with positive gain, best gain: -inf\n",
      "[LightGBM] [Warning] No further splits with positive gain, best gain: -inf\n",
      "[LightGBM] [Warning] No further splits with positive gain, best gain: -inf\n",
      "[LightGBM] [Warning] No further splits with positive gain, best gain: -inf\n",
      "[LightGBM] [Warning] No further splits with positive gain, best gain: -inf\n",
      "[LightGBM] [Warning] No further splits with positive gain, best gain: -inf\n",
      "[LightGBM] [Warning] No further splits with positive gain, best gain: -inf\n",
      "[LightGBM] [Warning] No further splits with positive gain, best gain: -inf\n",
      "[LightGBM] [Warning] No further splits with positive gain, best gain: -inf\n",
      "[LightGBM] [Warning] No further splits with positive gain, best gain: -inf\n",
      "[LightGBM] [Warning] No further splits with positive gain, best gain: -inf\n",
      "[LightGBM] [Warning] No further splits with positive gain, best gain: -inf\n",
      "[LightGBM] [Warning] No further splits with positive gain, best gain: -inf\n",
      "[LightGBM] [Warning] No further splits with positive gain, best gain: -inf\n",
      "[LightGBM] [Warning] No further splits with positive gain, best gain: -inf\n",
      "[LightGBM] [Warning] No further splits with positive gain, best gain: -inf\n",
      "[LightGBM] [Warning] No further splits with positive gain, best gain: -inf\n",
      "[LightGBM] [Warning] No further splits with positive gain, best gain: -inf\n",
      "[LightGBM] [Warning] No further splits with positive gain, best gain: -inf\n"
     ]
    },
    {
     "name": "stderr",
     "output_type": "stream",
     "text": [
      "100%|██████████| 32/32 [00:03<00:00,  9.20it/s]"
     ]
    },
    {
     "name": "stdout",
     "output_type": "stream",
     "text": [
      "[LightGBM] [Warning] No further splits with positive gain, best gain: -inf\n",
      "[LightGBM] [Warning] No further splits with positive gain, best gain: -inf\n",
      "[LightGBM] [Warning] No further splits with positive gain, best gain: -inf\n",
      "[LightGBM] [Warning] No further splits with positive gain, best gain: -inf\n",
      "[LightGBM] [Warning] No further splits with positive gain, best gain: -inf\n",
      "[LightGBM] [Warning] No further splits with positive gain, best gain: -inf\n",
      "[LightGBM] [Warning] No further splits with positive gain, best gain: -inf\n",
      "[LightGBM] [Warning] No further splits with positive gain, best gain: -inf\n",
      "[LightGBM] [Warning] No further splits with positive gain, best gain: -inf\n",
      "[LightGBM] [Warning] No further splits with positive gain, best gain: -inf\n",
      "[LightGBM] [Warning] No further splits with positive gain, best gain: -inf\n",
      "[LightGBM] [Warning] No further splits with positive gain, best gain: -inf\n",
      "[LightGBM] [Warning] No further splits with positive gain, best gain: -inf\n",
      "[LightGBM] [Warning] No further splits with positive gain, best gain: -inf\n",
      "[LightGBM] [Warning] No further splits with positive gain, best gain: -inf\n",
      "[LightGBM] [Warning] No further splits with positive gain, best gain: -inf\n",
      "[LightGBM] [Warning] No further splits with positive gain, best gain: -inf\n",
      "[LightGBM] [Warning] No further splits with positive gain, best gain: -inf\n",
      "[LightGBM] [Warning] No further splits with positive gain, best gain: -inf\n",
      "[LightGBM] [Warning] No further splits with positive gain, best gain: -inf\n",
      "[LightGBM] [Warning] No further splits with positive gain, best gain: -inf\n",
      "[LightGBM] [Warning] No further splits with positive gain, best gain: -inf\n",
      "[LightGBM] [Warning] No further splits with positive gain, best gain: -inf\n",
      "[LightGBM] [Warning] No further splits with positive gain, best gain: -inf\n",
      "[LightGBM] [Warning] No further splits with positive gain, best gain: -inf\n",
      "[LightGBM] [Warning] No further splits with positive gain, best gain: -inf\n",
      "[LightGBM] [Warning] No further splits with positive gain, best gain: -inf\n",
      "[LightGBM] [Warning] No further splits with positive gain, best gain: -inf\n",
      "[LightGBM] [Warning] No further splits with positive gain, best gain: -inf\n",
      "[LightGBM] [Warning] No further splits with positive gain, best gain: -inf\n",
      "[LightGBM] [Warning] No further splits with positive gain, best gain: -inf\n",
      "[LightGBM] [Warning] No further splits with positive gain, best gain: -inf\n",
      "[LightGBM] [Warning] No further splits with positive gain, best gain: -inf\n",
      "[LightGBM] [Warning] No further splits with positive gain, best gain: -inf\n",
      "[LightGBM] [Warning] No further splits with positive gain, best gain: -inf\n",
      "[LightGBM] [Warning] No further splits with positive gain, best gain: -inf\n",
      "[LightGBM] [Warning] No further splits with positive gain, best gain: -inf\n",
      "[LightGBM] [Warning] No further splits with positive gain, best gain: -inf\n",
      "[LightGBM] [Warning] No further splits with positive gain, best gain: -inf\n",
      "[LightGBM] [Warning] No further splits with positive gain, best gain: -inf\n",
      "[LightGBM] [Warning] No further splits with positive gain, best gain: -inf\n",
      "[LightGBM] [Warning] No further splits with positive gain, best gain: -inf\n",
      "[LightGBM] [Warning] No further splits with positive gain, best gain: -inf\n",
      "[LightGBM] [Warning] No further splits with positive gain, best gain: -inf\n",
      "[LightGBM] [Warning] No further splits with positive gain, best gain: -inf\n",
      "[LightGBM] [Warning] No further splits with positive gain, best gain: -inf\n",
      "[LightGBM] [Warning] No further splits with positive gain, best gain: -inf\n",
      "[LightGBM] [Warning] No further splits with positive gain, best gain: -inf\n",
      "[LightGBM] [Warning] No further splits with positive gain, best gain: -inf\n",
      "[LightGBM] [Warning] No further splits with positive gain, best gain: -inf\n",
      "[LightGBM] [Warning] No further splits with positive gain, best gain: -inf\n",
      "[LightGBM] [Warning] No further splits with positive gain, best gain: -inf\n",
      "[LightGBM] [Warning] No further splits with positive gain, best gain: -inf\n",
      "[LightGBM] [Warning] No further splits with positive gain, best gain: -inf\n",
      "[LightGBM] [Warning] No further splits with positive gain, best gain: -inf\n",
      "[LightGBM] [Warning] No further splits with positive gain, best gain: -inf\n",
      "[LightGBM] [Warning] No further splits with positive gain, best gain: -inf\n",
      "[LightGBM] [Warning] No further splits with positive gain, best gain: -inf\n",
      "[LightGBM] [Warning] No further splits with positive gain, best gain: -inf\n",
      "[LightGBM] [Warning] No further splits with positive gain, best gain: -inf\n",
      "[LightGBM] [Warning] No further splits with positive gain, best gain: -inf\n",
      "[LightGBM] [Warning] No further splits with positive gain, best gain: -inf\n",
      "[LightGBM] [Warning] No further splits with positive gain, best gain: -inf\n",
      "[LightGBM] [Warning] No further splits with positive gain, best gain: -inf\n",
      "[LightGBM] [Warning] No further splits with positive gain, best gain: -inf\n",
      "[LightGBM] [Warning] No further splits with positive gain, best gain: -inf\n",
      "[LightGBM] [Warning] No further splits with positive gain, best gain: -inf\n",
      "[LightGBM] [Warning] No further splits with positive gain, best gain: -inf\n",
      "[LightGBM] [Warning] No further splits with positive gain, best gain: -inf\n",
      "[LightGBM] [Warning] No further splits with positive gain, best gain: -inf\n",
      "[LightGBM] [Warning] No further splits with positive gain, best gain: -inf\n",
      "[LightGBM] [Warning] No further splits with positive gain, best gain: -inf\n",
      "[LightGBM] [Warning] No further splits with positive gain, best gain: -inf\n",
      "[LightGBM] [Warning] No further splits with positive gain, best gain: -inf\n",
      "[LightGBM] [Warning] No further splits with positive gain, best gain: -inf\n",
      "[LightGBM] [Warning] No further splits with positive gain, best gain: -inf\n",
      "[LightGBM] [Warning] No further splits with positive gain, best gain: -inf\n",
      "[LightGBM] [Warning] No further splits with positive gain, best gain: -inf\n",
      "[LightGBM] [Warning] No further splits with positive gain, best gain: -inf\n",
      "[LightGBM] [Warning] No further splits with positive gain, best gain: -inf\n",
      "[LightGBM] [Warning] No further splits with positive gain, best gain: -inf\n",
      "[LightGBM] [Warning] No further splits with positive gain, best gain: -inf\n",
      "[LightGBM] [Warning] No further splits with positive gain, best gain: -inf\n",
      "[LightGBM] [Warning] No further splits with positive gain, best gain: -inf\n",
      "[LightGBM] [Warning] No further splits with positive gain, best gain: -inf\n",
      "[LightGBM] [Warning] No further splits with positive gain, best gain: -inf\n",
      "[LightGBM] [Warning] No further splits with positive gain, best gain: -inf\n",
      "[LightGBM] [Warning] No further splits with positive gain, best gain: -inf\n",
      "[LightGBM] [Warning] No further splits with positive gain, best gain: -inf\n",
      "[LightGBM] [Warning] No further splits with positive gain, best gain: -inf\n",
      "[LightGBM] [Warning] No further splits with positive gain, best gain: -inf\n",
      "[LightGBM] [Warning] No further splits with positive gain, best gain: -inf\n",
      "[LightGBM] [Warning] No further splits with positive gain, best gain: -inf\n",
      "[LightGBM] [Warning] No further splits with positive gain, best gain: -inf\n",
      "[LightGBM] [Warning] No further splits with positive gain, best gain: -inf\n",
      "[LightGBM] [Warning] No further splits with positive gain, best gain: -inf\n",
      "[LightGBM] [Warning] No further splits with positive gain, best gain: -inf\n",
      "[LightGBM] [Warning] No further splits with positive gain, best gain: -inf\n",
      "[LightGBM] [Warning] No further splits with positive gain, best gain: -inf\n",
      "[LightGBM] [Warning] No further splits with positive gain, best gain: -inf\n",
      "[LightGBM] [Warning] No further splits with positive gain, best gain: -inf\n",
      "[LightGBM] [Warning] No further splits with positive gain, best gain: -inf\n",
      "[LightGBM] [Warning] No further splits with positive gain, best gain: -inf\n",
      "[LightGBM] [Warning] No further splits with positive gain, best gain: -inf\n",
      "[LightGBM] [Warning] No further splits with positive gain, best gain: -inf\n",
      "[LightGBM] [Warning] No further splits with positive gain, best gain: -inf\n",
      "[LightGBM] [Warning] No further splits with positive gain, best gain: -inf\n",
      "[LightGBM] [Warning] No further splits with positive gain, best gain: -inf\n",
      "[LightGBM] [Warning] No further splits with positive gain, best gain: -inf\n",
      "[LightGBM] [Warning] No further splits with positive gain, best gain: -inf\n",
      "[LightGBM] [Warning] No further splits with positive gain, best gain: -inf\n",
      "[LightGBM] [Warning] No further splits with positive gain, best gain: -inf\n",
      "[LightGBM] [Warning] No further splits with positive gain, best gain: -inf\n",
      "[LightGBM] [Warning] No further splits with positive gain, best gain: -inf\n",
      "[LightGBM] [Warning] No further splits with positive gain, best gain: -inf\n",
      "[LightGBM] [Warning] No further splits with positive gain, best gain: -inf\n",
      "[LightGBM] [Warning] No further splits with positive gain, best gain: -inf\n",
      "[LightGBM] [Warning] No further splits with positive gain, best gain: -inf\n",
      "[LightGBM] [Warning] No further splits with positive gain, best gain: -inf\n",
      "[LightGBM] [Warning] No further splits with positive gain, best gain: -inf\n",
      "[LightGBM] [Warning] No further splits with positive gain, best gain: -inf\n",
      "[LightGBM] [Warning] No further splits with positive gain, best gain: -inf\n",
      "[LightGBM] [Warning] No further splits with positive gain, best gain: -inf\n",
      "[LightGBM] [Warning] No further splits with positive gain, best gain: -inf\n",
      "[LightGBM] [Warning] No further splits with positive gain, best gain: -inf\n",
      "[LightGBM] [Warning] No further splits with positive gain, best gain: -inf\n",
      "[LightGBM] [Warning] No further splits with positive gain, best gain: -inf\n",
      "[LightGBM] [Warning] No further splits with positive gain, best gain: -inf\n",
      "[LightGBM] [Warning] No further splits with positive gain, best gain: -inf\n",
      "[LightGBM] [Warning] No further splits with positive gain, best gain: -inf\n",
      "[LightGBM] [Warning] No further splits with positive gain, best gain: -inf\n",
      "[LightGBM] [Warning] No further splits with positive gain, best gain: -inf\n",
      "[LightGBM] [Warning] No further splits with positive gain, best gain: -inf\n",
      "[LightGBM] [Warning] No further splits with positive gain, best gain: -inf\n",
      "[LightGBM] [Warning] No further splits with positive gain, best gain: -inf\n",
      "[LightGBM] [Warning] No further splits with positive gain, best gain: -inf\n",
      "[LightGBM] [Warning] No further splits with positive gain, best gain: -inf\n",
      "[LightGBM] [Warning] No further splits with positive gain, best gain: -inf\n",
      "[LightGBM] [Warning] No further splits with positive gain, best gain: -inf\n",
      "[LightGBM] [Warning] No further splits with positive gain, best gain: -inf\n",
      "[LightGBM] [Warning] No further splits with positive gain, best gain: -inf\n",
      "[LightGBM] [Warning] No further splits with positive gain, best gain: -inf\n",
      "[LightGBM] [Warning] No further splits with positive gain, best gain: -inf\n",
      "[LightGBM] [Warning] No further splits with positive gain, best gain: -inf\n",
      "[LightGBM] [Warning] No further splits with positive gain, best gain: -inf\n",
      "[LightGBM] [Warning] No further splits with positive gain, best gain: -inf\n",
      "[LightGBM] [Warning] No further splits with positive gain, best gain: -inf\n",
      "[LightGBM] [Warning] Stopped training because there are no more leaves that meet the split requirements\n",
      "[LightGBM] [Warning] No further splits with positive gain, best gain: -inf\n",
      "[LightGBM] [Warning] No further splits with positive gain, best gain: -inf\n",
      "[LightGBM] [Warning] No further splits with positive gain, best gain: -inf\n",
      "[LightGBM] [Warning] No further splits with positive gain, best gain: -inf\n",
      "[LightGBM] [Warning] No further splits with positive gain, best gain: -inf\n",
      "[LightGBM] [Warning] Stopped training because there are no more leaves that meet the split requirements\n",
      "[LightGBM] [Warning] No further splits with positive gain, best gain: -inf\n",
      "[LightGBM] [Warning] No further splits with positive gain, best gain: -inf\n",
      "[LightGBM] [Warning] No further splits with positive gain, best gain: -inf\n",
      "[LightGBM] [Warning] No further splits with positive gain, best gain: -inf\n",
      "[LightGBM] [Warning] No further splits with positive gain, best gain: -inf\n",
      "[LightGBM] [Warning] Stopped training because there are no more leaves that meet the split requirements\n",
      "[LightGBM] [Warning] No further splits with positive gain, best gain: -inf\n",
      "[LightGBM] [Warning] No further splits with positive gain, best gain: -inf\n",
      "[LightGBM] [Warning] No further splits with positive gain, best gain: -inf\n",
      "[LightGBM] [Warning] No further splits with positive gain, best gain: -inf\n",
      "[LightGBM] [Warning] No further splits with positive gain, best gain: -inf\n",
      "[LightGBM] [Warning] Stopped training because there are no more leaves that meet the split requirements\n",
      "[LightGBM] [Warning] No further splits with positive gain, best gain: -inf\n",
      "[LightGBM] [Warning] No further splits with positive gain, best gain: -inf\n",
      "[LightGBM] [Warning] No further splits with positive gain, best gain: -inf\n",
      "[LightGBM] [Warning] No further splits with positive gain, best gain: -inf\n",
      "[LightGBM] [Warning] No further splits with positive gain, best gain: -inf\n",
      "[LightGBM] [Warning] Stopped training because there are no more leaves that meet the split requirements\n",
      "[LightGBM] [Warning] No further splits with positive gain, best gain: -inf\n",
      "[LightGBM] [Warning] No further splits with positive gain, best gain: -inf\n",
      "[LightGBM] [Warning] No further splits with positive gain, best gain: -inf\n",
      "[LightGBM] [Warning] No further splits with positive gain, best gain: -inf\n",
      "[LightGBM] [Warning] No further splits with positive gain, best gain: -inf\n",
      "[LightGBM] [Warning] Stopped training because there are no more leaves that meet the split requirements\n",
      "[LightGBM] [Warning] No further splits with positive gain, best gain: -inf\n",
      "[LightGBM] [Warning] No further splits with positive gain, best gain: -inf\n",
      "[LightGBM] [Warning] No further splits with positive gain, best gain: -inf\n",
      "[LightGBM] [Warning] No further splits with positive gain, best gain: -inf\n",
      "[LightGBM] [Warning] No further splits with positive gain, best gain: -inf\n",
      "[LightGBM] [Warning] Stopped training because there are no more leaves that meet the split requirements\n",
      "[LightGBM] [Warning] No further splits with positive gain, best gain: -inf\n",
      "[LightGBM] [Warning] No further splits with positive gain, best gain: -inf\n",
      "[LightGBM] [Warning] No further splits with positive gain, best gain: -inf\n",
      "[LightGBM] [Warning] No further splits with positive gain, best gain: -inf\n",
      "[LightGBM] [Warning] No further splits with positive gain, best gain: -inf\n",
      "[LightGBM] [Warning] Stopped training because there are no more leaves that meet the split requirements\n",
      "[LightGBM] [Warning] No further splits with positive gain, best gain: -inf\n",
      "[LightGBM] [Warning] No further splits with positive gain, best gain: -inf\n",
      "[LightGBM] [Warning] No further splits with positive gain, best gain: -inf\n",
      "[LightGBM] [Warning] No further splits with positive gain, best gain: -inf\n",
      "[LightGBM] [Warning] No further splits with positive gain, best gain: -inf\n",
      "[LightGBM] [Warning] Stopped training because there are no more leaves that meet the split requirements\n",
      "[LightGBM] [Warning] No further splits with positive gain, best gain: -inf\n",
      "[LightGBM] [Warning] No further splits with positive gain, best gain: -inf\n",
      "[LightGBM] [Warning] No further splits with positive gain, best gain: -inf\n",
      "[LightGBM] [Warning] No further splits with positive gain, best gain: -inf\n",
      "[LightGBM] [Warning] No further splits with positive gain, best gain: -inf\n",
      "[LightGBM] [Warning] Stopped training because there are no more leaves that meet the split requirements\n"
     ]
    },
    {
     "name": "stderr",
     "output_type": "stream",
     "text": [
      "\n"
     ]
    },
    {
     "data": {
      "text/html": [
       "<div>\n",
       "<style scoped>\n",
       "    .dataframe tbody tr th:only-of-type {\n",
       "        vertical-align: middle;\n",
       "    }\n",
       "\n",
       "    .dataframe tbody tr th {\n",
       "        vertical-align: top;\n",
       "    }\n",
       "\n",
       "    .dataframe thead th {\n",
       "        text-align: right;\n",
       "    }\n",
       "</style>\n",
       "<table border=\"1\" class=\"dataframe\">\n",
       "  <thead>\n",
       "    <tr style=\"text-align: right;\">\n",
       "      <th></th>\n",
       "      <th>Accuracy</th>\n",
       "      <th>Balanced Accuracy</th>\n",
       "      <th>ROC AUC</th>\n",
       "      <th>F1 Score</th>\n",
       "      <th>Time Taken</th>\n",
       "    </tr>\n",
       "    <tr>\n",
       "      <th>Model</th>\n",
       "      <th></th>\n",
       "      <th></th>\n",
       "      <th></th>\n",
       "      <th></th>\n",
       "      <th></th>\n",
       "    </tr>\n",
       "  </thead>\n",
       "  <tbody>\n",
       "    <tr>\n",
       "      <th>RidgeClassifier</th>\n",
       "      <td>1.00</td>\n",
       "      <td>1.00</td>\n",
       "      <td>None</td>\n",
       "      <td>1.00</td>\n",
       "      <td>0.01</td>\n",
       "    </tr>\n",
       "    <tr>\n",
       "      <th>LogisticRegression</th>\n",
       "      <td>1.00</td>\n",
       "      <td>1.00</td>\n",
       "      <td>None</td>\n",
       "      <td>1.00</td>\n",
       "      <td>0.02</td>\n",
       "    </tr>\n",
       "    <tr>\n",
       "      <th>BernoulliNB</th>\n",
       "      <td>1.00</td>\n",
       "      <td>1.00</td>\n",
       "      <td>None</td>\n",
       "      <td>1.00</td>\n",
       "      <td>0.02</td>\n",
       "    </tr>\n",
       "    <tr>\n",
       "      <th>Perceptron</th>\n",
       "      <td>1.00</td>\n",
       "      <td>1.00</td>\n",
       "      <td>None</td>\n",
       "      <td>1.00</td>\n",
       "      <td>0.02</td>\n",
       "    </tr>\n",
       "    <tr>\n",
       "      <th>NearestCentroid</th>\n",
       "      <td>1.00</td>\n",
       "      <td>1.00</td>\n",
       "      <td>None</td>\n",
       "      <td>1.00</td>\n",
       "      <td>0.02</td>\n",
       "    </tr>\n",
       "  </tbody>\n",
       "</table>\n",
       "</div>"
      ],
      "text/plain": [
       "                    Accuracy  Balanced Accuracy ROC AUC  F1 Score  Time Taken\n",
       "Model                                                                        \n",
       "RidgeClassifier         1.00               1.00    None      1.00        0.01\n",
       "LogisticRegression      1.00               1.00    None      1.00        0.02\n",
       "BernoulliNB             1.00               1.00    None      1.00        0.02\n",
       "Perceptron              1.00               1.00    None      1.00        0.02\n",
       "NearestCentroid         1.00               1.00    None      1.00        0.02"
      ]
     },
     "execution_count": 18,
     "metadata": {},
     "output_type": "execute_result"
    }
   ],
   "source": [
    "from lazypredict.Supervised import LazyClassifier\n",
    "\n",
    "# Initialize LazyClassifier\n",
    "clf = LazyClassifier(verbose=-1, ignore_warnings=True, custom_metric=None, random_state=42)\n",
    "models, predictions = clf.fit(X_train, X_test, y_train, y_test)\n",
    "models = models.sort_values(by=[\"F1 Score\", \"Time Taken\"], ascending=[False, True])\n",
    "models.head()"
   ]
  },
  {
   "cell_type": "code",
   "execution_count": 19,
   "id": "4c340377",
   "metadata": {
    "execution": {
     "iopub.execute_input": "2025-03-31T12:45:07.058961Z",
     "iopub.status.busy": "2025-03-31T12:45:07.058099Z",
     "iopub.status.idle": "2025-03-31T12:45:08.162008Z",
     "shell.execute_reply": "2025-03-31T12:45:08.160851Z"
    },
    "papermill": {
     "duration": 1.120597,
     "end_time": "2025-03-31T12:45:08.163762",
     "exception": false,
     "start_time": "2025-03-31T12:45:07.043165",
     "status": "completed"
    },
    "tags": []
   },
   "outputs": [
    {
     "data": {
      "image/png": "[encoded data removed]",
      "text/plain": [
       "<Figure size 600x400 with 1 Axes>"
      ]
     },
     "metadata": {},
     "output_type": "display_data"
    }
   ],
   "source": [
    "import os\n",
    "import joblib\n",
    "import matplotlib.pyplot as plt\n",
    "from sklearn.linear_model import LogisticRegression, SGDClassifier, Perceptron\n",
    "from sklearn.neighbors import NearestCentroid\n",
    "from sklearn.naive_bayes import BernoulliNB\n",
    "\n",
    "# Initialize models\n",
    "models = {\n",
    "    \"LogReg\": LogisticRegression(random_state=42, max_iter=5000),\n",
    "    \"SGD\": SGDClassifier(random_state=42),\n",
    "    \"NC\": NearestCentroid(),\n",
    "    \"Percptron\": Perceptron(random_state=42),\n",
    "    \"BNB\": BernoulliNB()\n",
    "}\n",
    "\n",
    "# Train and save models\n",
    "model_sizes = {}\n",
    "model_paths = []  # Store file paths to delete later\n",
    "\n",
    "for name, model in models.items():\n",
    "    model.fit(X_train, y_train)\n",
    "    file_path = f\"{name}.joblib\"\n",
    "    joblib.dump(model, file_path)  # Save model\n",
    "    model_sizes[name] = os.path.getsize(file_path) / 1024  # Get size in KB\n",
    "    model_paths.append(file_path)  # Store file path\n",
    "\n",
    "# Plot Model Sizes\n",
    "plt.figure(figsize=(6, 4))\n",
    "plt.bar(\n",
    "    model_sizes.keys(), \n",
    "    model_sizes.values(), \n",
    "    color=['blue', 'green', 'red', 'purple', 'orange']\n",
    ")\n",
    "plt.xlabel(\"Model Name\")\n",
    "plt.ylabel(\"Size (KB)\")\n",
    "plt.title(\"Model Size Comparison\")\n",
    "plt.ylim(6, 15)\n",
    "\n",
    "# Display size on top of bars\n",
    "for i, size in enumerate(model_sizes.values()):\n",
    "    plt.text(i, size + 0.25 , f\"{size:.2f} KB\", ha='center', fontsize=10)\n",
    "\n",
    "plt.show()\n",
    "\n",
    "# Remove model files\n",
    "for path in model_paths:\n",
    "    os.remove(path)"
   ]
  },
  {
   "cell_type": "markdown",
   "id": "bd61c6a1",
   "metadata": {
    "papermill": {
     "duration": 0.012861,
     "end_time": "2025-03-31T12:45:08.190469",
     "exception": false,
     "start_time": "2025-03-31T12:45:08.177608",
     "status": "completed"
    },
    "tags": []
   },
   "source": [
    "- **`Logistic Regression` is one of the best performing models with 100 features.**"
   ]
  },
  {
   "cell_type": "code",
   "execution_count": 20,
   "id": "805c1212",
   "metadata": {
    "execution": {
     "iopub.execute_input": "2025-03-31T12:45:08.218639Z",
     "iopub.status.busy": "2025-03-31T12:45:08.218168Z",
     "iopub.status.idle": "2025-03-31T12:45:09.081426Z",
     "shell.execute_reply": "2025-03-31T12:45:09.080290Z"
    },
    "papermill": {
     "duration": 0.879641,
     "end_time": "2025-03-31T12:45:09.083396",
     "exception": false,
     "start_time": "2025-03-31T12:45:08.203755",
     "status": "completed"
    },
    "tags": []
   },
   "outputs": [
    {
     "name": "stdout",
     "output_type": "stream",
     "text": [
      "Classification Report:\n",
      "               precision    recall  f1-score   support\n",
      "\n",
      "           0       1.00      1.00      1.00        52\n",
      "           1       1.00      1.00      1.00        13\n",
      "           2       1.00      1.00      1.00        26\n",
      "           3       1.00      1.00      1.00        24\n",
      "           4       1.00      1.00      1.00        29\n",
      "\n",
      "    accuracy                           1.00       144\n",
      "   macro avg       1.00      1.00      1.00       144\n",
      "weighted avg       1.00      1.00      1.00       144\n",
      "\n"
     ]
    },
    {
     "data": {
      "image/png": "[encoded data removed]",
      "text/plain": [
       "<Figure size 500x400 with 2 Axes>"
      ]
     },
     "metadata": {},
     "output_type": "display_data"
    }
   ],
   "source": [
    "import seaborn as sns\n",
    "import matplotlib.pyplot as plt\n",
    "from sklearn.linear_model import LogisticRegression\n",
    "from sklearn.metrics import classification_report, confusion_matrix\n",
    "\n",
    "# Initialize Logistic Regression model\n",
    "base_model = LogisticRegression(random_state=42, max_iter=5000)\n",
    "base_model.fit(X_train, y_train)\n",
    "\n",
    "# Predictions\n",
    "y_pred = base_model.predict(X_test)\n",
    "\n",
    "# Print Classification Report\n",
    "print(\"Classification Report:\\n\", classification_report(y_test, y_pred))\n",
    "\n",
    "# Generate Confusion Matrix\n",
    "conf_matrix = confusion_matrix(y_test, y_pred)\n",
    "\n",
    "# Plot Confusion Matrix\n",
    "plt.figure(figsize=(5, 4))\n",
    "sns.heatmap(conf_matrix, annot=True, fmt='d', cmap='Blues', xticklabels=np.unique(y_test), yticklabels=np.unique(y_test))\n",
    "plt.xlabel(\"Predicted Label\")\n",
    "plt.ylabel(\"True Label\")\n",
    "plt.title(\"Confusion Matrix - Logistic Regression\")\n",
    "plt.show()"
   ]
  },
  {
   "cell_type": "markdown",
   "id": "084cd155",
   "metadata": {
    "papermill": {
     "duration": 0.013323,
     "end_time": "2025-03-31T12:45:09.111159",
     "exception": false,
     "start_time": "2025-03-31T12:45:09.097836",
     "status": "completed"
    },
    "tags": []
   },
   "source": [
    "# **OPTIMIZATION**\n",
    "---"
   ]
  },
  {
   "cell_type": "markdown",
   "id": "807aabf7",
   "metadata": {
    "papermill": {
     "duration": 0.01333,
     "end_time": "2025-03-31T12:45:09.138608",
     "exception": false,
     "start_time": "2025-03-31T12:45:09.125278",
     "status": "completed"
    },
    "tags": []
   },
   "source": [
    "In this step we will try to optimize the model by first decreasing the number of features."
   ]
  },
  {
   "cell_type": "markdown",
   "id": "766e8df5",
   "metadata": {
    "papermill": {
     "duration": 0.077938,
     "end_time": "2025-03-31T12:45:09.230336",
     "exception": false,
     "start_time": "2025-03-31T12:45:09.152398",
     "status": "completed"
    },
    "tags": []
   },
   "source": [
    "## **Stage 1 Compression**"
   ]
  },
  {
   "cell_type": "code",
   "execution_count": 21,
   "id": "53c83295",
   "metadata": {
    "execution": {
     "iopub.execute_input": "2025-03-31T12:45:09.261382Z",
     "iopub.status.busy": "2025-03-31T12:45:09.260689Z",
     "iopub.status.idle": "2025-03-31T12:45:10.167183Z",
     "shell.execute_reply": "2025-03-31T12:45:10.166134Z"
    },
    "papermill": {
     "duration": 0.924471,
     "end_time": "2025-03-31T12:45:10.169082",
     "exception": false,
     "start_time": "2025-03-31T12:45:09.244611",
     "status": "completed"
    },
    "tags": []
   },
   "outputs": [
    {
     "data": {
      "image/png": "[encoded data removed]",
      "text/plain": [
       "<Figure size 900x800 with 4 Axes>"
      ]
     },
     "metadata": {},
     "output_type": "display_data"
    }
   ],
   "source": [
    "from sklearn.metrics import accuracy_score, precision_score, recall_score, f1_score\n",
    "\n",
    "# Define feature selection intervals\n",
    "feature_counts = list(range(10, 41, 10))\n",
    "\n",
    "# Store metrics for plotting\n",
    "accuracies, precisions, recalls, f1_scores = [], [], [], []\n",
    "\n",
    "# Iterate over different feature sizes\n",
    "for n_features in feature_counts:\n",
    "    \n",
    "    # Select the top 'n' features\n",
    "    selected_features = top_100_features[:n_features]\n",
    "    X_subset = df[selected_features]  \n",
    "\n",
    "    # Train-test split\n",
    "    X_train, X_test, y_train, y_test = train_test_split(X_subset, y, test_size=0.2, random_state=42, stratify=y)\n",
    "\n",
    "    # Train the Logistic Regression model\n",
    "    lr_model = LogisticRegression(random_state=42, max_iter=5000)\n",
    "    lr_model.fit(X_train, y_train)\n",
    "    y_pred = lr_model.predict(X_test)\n",
    "\n",
    "    # Compute evaluation metrics\n",
    "    accuracies.append(accuracy_score(y_test, y_pred))\n",
    "    precisions.append(precision_score(y_test, y_pred, average='weighted', zero_division=0))\n",
    "    recalls.append(recall_score(y_test, y_pred, average='weighted'))\n",
    "    f1_scores.append(f1_score(y_test, y_pred, average='weighted'))\n",
    "\n",
    "# Plot the metrics\n",
    "fig, axes = plt.subplots(2, 2, figsize=(9, 8))\n",
    "\n",
    "# Accuracy\n",
    "axes[0, 0].plot(feature_counts, accuracies, marker='o', color='blue', linestyle='-')\n",
    "axes[0, 0].set_title(\"Accuracy vs. Feature Count\")\n",
    "axes[0, 0].set_xlabel(\"Number of Features\")\n",
    "axes[0, 0].set_ylabel(\"Accuracy\")\n",
    "\n",
    "# Precision\n",
    "axes[0, 1].plot(feature_counts, precisions, marker='o', color='green', linestyle='-')\n",
    "axes[0, 1].set_title(\"Precision vs. Feature Count\")\n",
    "axes[0, 1].set_xlabel(\"Number of Features\")\n",
    "axes[0, 1].set_ylabel(\"Precision\")\n",
    "\n",
    "# Recall\n",
    "axes[1, 0].plot(feature_counts, recalls, marker='o', color='red', linestyle='-')\n",
    "axes[1, 0].set_title(\"Recall vs. Feature Count\")\n",
    "axes[1, 0].set_xlabel(\"Number of Features\")\n",
    "axes[1, 0].set_ylabel(\"Recall\")\n",
    "\n",
    "# F1 Score\n",
    "axes[1, 1].plot(feature_counts, f1_scores, marker='o', color='purple', linestyle='-')\n",
    "axes[1, 1].set_title(\"F1 Score vs. Feature Count\")\n",
    "axes[1, 1].set_xlabel(\"Number of Features\")\n",
    "axes[1, 1].set_ylabel(\"F1 Score\")\n",
    "\n",
    "plt.tight_layout()\n",
    "plt.show()"
   ]
  },
  {
   "cell_type": "code",
   "execution_count": 22,
   "id": "1910637c",
   "metadata": {
    "execution": {
     "iopub.execute_input": "2025-03-31T12:45:10.202482Z",
     "iopub.status.busy": "2025-03-31T12:45:10.202107Z",
     "iopub.status.idle": "2025-03-31T12:45:10.500335Z",
     "shell.execute_reply": "2025-03-31T12:45:10.499347Z"
    },
    "papermill": {
     "duration": 0.316564,
     "end_time": "2025-03-31T12:45:10.502109",
     "exception": false,
     "start_time": "2025-03-31T12:45:10.185545",
     "status": "completed"
    },
    "tags": []
   },
   "outputs": [
    {
     "name": "stdout",
     "output_type": "stream",
     "text": [
      "Classification Report:\n",
      "               precision    recall  f1-score   support\n",
      "\n",
      "           0       1.00      1.00      1.00        60\n",
      "           1       1.00      1.00      1.00        16\n",
      "           2       1.00      1.00      1.00        30\n",
      "           3       1.00      1.00      1.00        28\n",
      "           4       1.00      1.00      1.00        27\n",
      "\n",
      "    accuracy                           1.00       161\n",
      "   macro avg       1.00      1.00      1.00       161\n",
      "weighted avg       1.00      1.00      1.00       161\n",
      "\n"
     ]
    },
    {
     "data": {
      "image/png": "[encoded data removed]",
      "text/plain": [
       "<Figure size 500x400 with 2 Axes>"
      ]
     },
     "metadata": {},
     "output_type": "display_data"
    }
   ],
   "source": [
    "import numpy as np\n",
    "import matplotlib.pyplot as plt\n",
    "import seaborn as sns\n",
    "from sklearn.linear_model import LogisticRegression\n",
    "from sklearn.model_selection import train_test_split\n",
    "\n",
    "# Select top 20 features\n",
    "selected_features = top_100_features[:20]\n",
    "X_subset = df[selected_features]  \n",
    "\n",
    "# Train-test split\n",
    "X_train, X_test, y_train, y_test = train_test_split(X_subset, y, test_size=0.2, random_state=42, stratify=y)\n",
    "\n",
    "# Train the Logistic Regression model\n",
    "lr_model = LogisticRegression(random_state=42, max_iter=5000)\n",
    "lr_model.fit(X_train, y_train)\n",
    "y_pred = lr_model.predict(X_test)\n",
    "\n",
    "# Print Classification Report\n",
    "print(\"Classification Report:\\n\", classification_report(y_test, y_pred))\n",
    "\n",
    "# Generate Confusion Matrix\n",
    "conf_matrix = confusion_matrix(y_test, y_pred)\n",
    "\n",
    "# Plot Confusion Matrix\n",
    "plt.figure(figsize=(5, 4))\n",
    "sns.heatmap(conf_matrix, annot=True, fmt='d', cmap='Blues', xticklabels=np.unique(y_test), yticklabels=np.unique(y_test))\n",
    "plt.xlabel(\"Predicted Label\")\n",
    "plt.ylabel(\"True Label\")\n",
    "plt.title(\"Logistic Regression (20 features)\", fontweight='bold')\n",
    "plt.show()"
   ]
  },
  {
   "cell_type": "markdown",
   "id": "0ae90be7",
   "metadata": {
    "papermill": {
     "duration": 0.01581,
     "end_time": "2025-03-31T12:45:10.534409",
     "exception": false,
     "start_time": "2025-03-31T12:45:10.518599",
     "status": "completed"
    },
    "tags": []
   },
   "source": [
    "## **Stage 2 Compression**"
   ]
  },
  {
   "cell_type": "code",
   "execution_count": 23,
   "id": "830c6b62",
   "metadata": {
    "execution": {
     "iopub.execute_input": "2025-03-31T12:45:10.568560Z",
     "iopub.status.busy": "2025-03-31T12:45:10.568160Z",
     "iopub.status.idle": "2025-03-31T12:45:11.500252Z",
     "shell.execute_reply": "2025-03-31T12:45:11.499220Z"
    },
    "papermill": {
     "duration": 0.952384,
     "end_time": "2025-03-31T12:45:11.502957",
     "exception": false,
     "start_time": "2025-03-31T12:45:10.550573",
     "status": "completed"
    },
    "tags": []
   },
   "outputs": [
    {
     "data": {
      "image/png": "[encoded data removed]",
      "text/plain": [
       "<Figure size 900x800 with 4 Axes>"
      ]
     },
     "metadata": {},
     "output_type": "display_data"
    }
   ],
   "source": [
    "import numpy as np\n",
    "import matplotlib.pyplot as plt\n",
    "from sklearn.linear_model import LogisticRegression\n",
    "from sklearn.model_selection import train_test_split\n",
    "from sklearn.metrics import accuracy_score, precision_score, recall_score, f1_score\n",
    "\n",
    "# Define feature selection intervals\n",
    "feature_counts = list(range(10, 21))\n",
    "\n",
    "# Store metrics for plotting\n",
    "accuracies, precisions, recalls, f1_scores = [], [], [], []\n",
    "\n",
    "# Iterate over different feature sizes\n",
    "for n_features in feature_counts:\n",
    "    \n",
    "    # Select the top 'n' features\n",
    "    selected_features = top_100_features[:n_features]\n",
    "    X_subset = df[selected_features] \n",
    "\n",
    "    # Train-test split\n",
    "    X_train, X_test, y_train, y_test = train_test_split(X_subset, y, test_size=0.2, random_state=42, stratify=y)\n",
    "\n",
    "    # Train the Logistic Regression model\n",
    "    lr_model = LogisticRegression(random_state=42, max_iter=5000)\n",
    "    lr_model.fit(X_train, y_train)\n",
    "    y_pred = lr_model.predict(X_test)\n",
    "\n",
    "    # Compute evaluation metrics\n",
    "    accuracies.append(accuracy_score(y_test, y_pred))\n",
    "    precisions.append(precision_score(y_test, y_pred, average='weighted', zero_division=0))\n",
    "    recalls.append(recall_score(y_test, y_pred, average='weighted'))\n",
    "    f1_scores.append(f1_score(y_test, y_pred, average='weighted'))\n",
    "\n",
    "# Plot the metrics\n",
    "fig, axes = plt.subplots(2, 2, figsize=(9, 8))\n",
    "\n",
    "# Accuracy\n",
    "axes[0, 0].plot(feature_counts, accuracies, marker='o', color='blue', linestyle='-')\n",
    "axes[0, 0].set_title(\"Accuracy vs. Feature Count\")\n",
    "axes[0, 0].set_xlabel(\"Number of Features\")\n",
    "axes[0, 0].set_ylabel(\"Accuracy\")\n",
    "\n",
    "# Precision\n",
    "axes[0, 1].plot(feature_counts, precisions, marker='o', color='green', linestyle='-')\n",
    "axes[0, 1].set_title(\"Precision vs. Feature Count\")\n",
    "axes[0, 1].set_xlabel(\"Number of Features\")\n",
    "axes[0, 1].set_ylabel(\"Precision\")\n",
    "\n",
    "# Recall\n",
    "axes[1, 0].plot(feature_counts, recalls, marker='o', color='red', linestyle='-')\n",
    "axes[1, 0].set_title(\"Recall vs. Feature Count\")\n",
    "axes[1, 0].set_xlabel(\"Number of Features\")\n",
    "axes[1, 0].set_ylabel(\"Recall\")\n",
    "\n",
    "# F1 Score\n",
    "axes[1, 1].plot(feature_counts, f1_scores, marker='o', color='purple', linestyle='-')\n",
    "axes[1, 1].set_title(\"F1 Score vs. Feature Count\")\n",
    "axes[1, 1].set_xlabel(\"Number of Features\")\n",
    "axes[1, 1].set_ylabel(\"F1 Score\")\n",
    "\n",
    "plt.tight_layout()\n",
    "plt.show()"
   ]
  },
  {
   "cell_type": "markdown",
   "id": "7e44492e",
   "metadata": {
    "papermill": {
     "duration": 0.018367,
     "end_time": "2025-03-31T12:45:11.539463",
     "exception": false,
     "start_time": "2025-03-31T12:45:11.521096",
     "status": "completed"
    },
    "tags": []
   },
   "source": [
    "### **Model Performance with `13` Parameters**"
   ]
  },
  {
   "cell_type": "code",
   "execution_count": 24,
   "id": "c535f625",
   "metadata": {},
   "outputs": [],
   "source": [
    "# selecting only the top 15 features\n",
    "selected_features = top_100_features[:13]\n",
    "df_subset = df[selected_features]"
   ]
  },
  {
   "cell_type": "code",
   "execution_count": 25,
   "id": "4d407a15",
   "metadata": {},
   "outputs": [
    {
     "data": {
      "text/plain": [
       "(801, 13)"
      ]
     },
     "execution_count": 25,
     "metadata": {},
     "output_type": "execute_result"
    }
   ],
   "source": [
    "df_subset.shape"
   ]
  },
  {
   "cell_type": "code",
   "execution_count": 26,
   "id": "3764a8fa",
   "metadata": {},
   "outputs": [],
   "source": [
    "scaler_standard = StandardScaler()\n",
    "X_subset = pd.DataFrame(scaler_standard.fit_transform(df_subset), columns=df_subset.columns)"
   ]
  },
  {
   "cell_type": "code",
   "execution_count": 27,
   "id": "e6c83c90",
   "metadata": {},
   "outputs": [
    {
     "data": {
      "text/plain": [
       "(801, 13)"
      ]
     },
     "execution_count": 27,
     "metadata": {},
     "output_type": "execute_result"
    }
   ],
   "source": [
    "X_subset.shape"
   ]
  },
  {
   "cell_type": "code",
   "execution_count": 28,
   "id": "7fccadb7",
   "metadata": {
    "execution": {
     "iopub.execute_input": "2025-03-31T12:45:11.577665Z",
     "iopub.status.busy": "2025-03-31T12:45:11.577266Z",
     "iopub.status.idle": "2025-03-31T12:45:11.871011Z",
     "shell.execute_reply": "2025-03-31T12:45:11.869977Z"
    },
    "papermill": {
     "duration": 0.314956,
     "end_time": "2025-03-31T12:45:11.872905",
     "exception": false,
     "start_time": "2025-03-31T12:45:11.557949",
     "status": "completed"
    },
    "tags": []
   },
   "outputs": [
    {
     "name": "stdout",
     "output_type": "stream",
     "text": [
      "Classification Report:\n",
      "               precision    recall  f1-score   support\n",
      "\n",
      "           0       1.00      1.00      1.00        60\n",
      "           1       1.00      1.00      1.00        16\n",
      "           2       1.00      1.00      1.00        30\n",
      "           3       1.00      1.00      1.00        28\n",
      "           4       1.00      1.00      1.00        27\n",
      "\n",
      "    accuracy                           1.00       161\n",
      "   macro avg       1.00      1.00      1.00       161\n",
      "weighted avg       1.00      1.00      1.00       161\n",
      "\n"
     ]
    },
    {
     "data": {
      "image/png": "[encoded data removed]",
      "text/plain": [
       "<Figure size 500x400 with 2 Axes>"
      ]
     },
     "metadata": {},
     "output_type": "display_data"
    }
   ],
   "source": [
    "# Standardize the selected features\n",
    "scaler_standard = StandardScaler()\n",
    "X_subset = pd.DataFrame(scaler_standard.fit_transform(df[selected_features]), columns=selected_features)\n",
    "\n",
    "# Train-test split\n",
    "X_train, X_test, y_train, y_test = train_test_split(X_subset, y, test_size=0.2, random_state=42, stratify=y)\n",
    "\n",
    "# Train the Logistic Regression model\n",
    "final_model = LogisticRegression(max_iter=5000, random_state=42)\n",
    "final_model.fit(X_train, y_train)\n",
    "y_pred = final_model.predict(X_test)\n",
    "\n",
    "# Print Classification Report\n",
    "print(\"Classification Report:\\n\", classification_report(y_test, y_pred))\n",
    "\n",
    "# Generate Confusion Matrix\n",
    "conf_matrix = confusion_matrix(y_test, y_pred)\n",
    "\n",
    "# Plot Confusion Matrix\n",
    "plt.figure(figsize=(5, 4))\n",
    "sns.heatmap(conf_matrix, annot=True, fmt='d', cmap='Blues', xticklabels=np.unique(y_test), yticklabels=np.unique(y_test))\n",
    "plt.xlabel(\"Predicted Label\")\n",
    "plt.ylabel(\"True Label\")\n",
    "plt.title(\"Logistic Regression (15 features)\", fontweight='bold')\n",
    "plt.show()"
   ]
  },
  {
   "cell_type": "markdown",
   "id": "5d447345",
   "metadata": {
    "papermill": {
     "duration": 0.018659,
     "end_time": "2025-03-31T12:45:11.910512",
     "exception": false,
     "start_time": "2025-03-31T12:45:11.891853",
     "status": "completed"
    },
    "tags": []
   },
   "source": [
    "- **The data was very good in nature, as a result we did not have to deal with class imbalance, as it can be seen above!**"
   ]
  },
  {
   "cell_type": "code",
   "execution_count": 29,
   "id": "a784c44d",
   "metadata": {
    "execution": {
     "iopub.execute_input": "2025-03-31T12:45:11.950165Z",
     "iopub.status.busy": "2025-03-31T12:45:11.949805Z",
     "iopub.status.idle": "2025-03-31T12:45:12.108170Z",
     "shell.execute_reply": "2025-03-31T12:45:12.107040Z"
    },
    "papermill": {
     "duration": 0.180404,
     "end_time": "2025-03-31T12:45:12.109893",
     "exception": false,
     "start_time": "2025-03-31T12:45:11.929489",
     "status": "completed"
    },
    "tags": []
   },
   "outputs": [
    {
     "data": {
      "image/png": "[encoded data removed]",
      "text/plain": [
       "<Figure size 600x400 with 1 Axes>"
      ]
     },
     "metadata": {},
     "output_type": "display_data"
    }
   ],
   "source": [
    "# Function to calculate model size (KB)\n",
    "def get_model_size(model, model_name):\n",
    "    joblib.dump(model, f\"{model_name}.pkl\")  # Save model\n",
    "    size_kb = os.path.getsize(f\"{model_name}.pkl\") / 1024  # Convert bytes to KB\n",
    "    os.remove(f\"{model_name}.pkl\")  # Clean up file\n",
    "    return size_kb\n",
    "\n",
    "# Calculate model sizes\n",
    "model_sizes = {\n",
    "    \"Base\": get_model_size(base_model, \"model1\"),\n",
    "    \"Compressed\": get_model_size(final_model, \"model2\"),\n",
    "}\n",
    "\n",
    "# Plot model sizes\n",
    "plt.figure(figsize=(6, 4))\n",
    "plt.bar(model_sizes.keys(), model_sizes.values(), color=['blue', 'red'])\n",
    "plt.ylabel(\"Size (KB)\")\n",
    "plt.title(\"Model Size Comparison\")\n",
    "plt.ylim(0,7.5)\n",
    "\n",
    "for i, size in enumerate(model_sizes.values()):\n",
    "    plt.text(i, size + 0.15, f\"{size:.4f}\", ha='center', fontsize=10)\n",
    "    \n",
    "plt.show()"
   ]
  },
  {
   "cell_type": "markdown",
   "id": "4637b98f",
   "metadata": {
    "papermill": {
     "duration": 0.020321,
     "end_time": "2025-03-31T12:45:12.151464",
     "exception": false,
     "start_time": "2025-03-31T12:45:12.131143",
     "status": "completed"
    },
    "tags": []
   },
   "source": [
    "- **`OBSERVATION:` A total compression of 71% in model size without any loss in performance!**"
   ]
  },
  {
   "cell_type": "code",
   "execution_count": 30,
   "id": "f2f379e2",
   "metadata": {},
   "outputs": [],
   "source": [
    "test_values = X_test.values"
   ]
  },
  {
   "cell_type": "markdown",
   "id": "71538007",
   "metadata": {},
   "source": [
    "# **Exporting data to Embedded `Header` Files**\n",
    "---"
   ]
  },
  {
   "cell_type": "markdown",
   "id": "4542c49a",
   "metadata": {},
   "source": [
    "- **Exporting encoders**"
   ]
  },
  {
   "cell_type": "code",
   "execution_count": 31,
   "id": "d97bf2a6",
   "metadata": {},
   "outputs": [
    {
     "name": "stdout",
     "output_type": "stream",
     "text": [
      "Encoder data exported successfully!\n"
     ]
    }
   ],
   "source": [
    "# Get label mappings\n",
    "classes = label_encoder.classes_\n",
    "encoded_values = np.arange(len(classes))\n",
    "\n",
    "# Create C header file content\n",
    "header_content = \"#ifndef LABEL_ENCODER_H\\n#define LABEL_ENCODER_H\\n\\n\"\n",
    "header_content += f\"#define NUM_CLASSES {len(classes)}\\n\\n\"\n",
    "header_content += \"const char* class_labels[NUM_CLASSES] = {\"\n",
    "header_content += \", \".join(f'\"{cls}\"' for cls in classes)\n",
    "header_content += \"};\\n\\n\"\n",
    "header_content += \"const int class_values[NUM_CLASSES] = {\"\n",
    "header_content += \", \".join(str(val) for val in encoded_values)\n",
    "header_content += \"};\\n\\n\"\n",
    "header_content += \"#endif // LABEL_ENCODER_H\"\n",
    "\n",
    "# Save to file\n",
    "with open(\"nano/encoder.h\", \"w\") as f:\n",
    "    f.write(header_content)\n",
    "\n",
    "print(\"Encoder data exported successfully!\")"
   ]
  },
  {
   "cell_type": "markdown",
   "id": "f586239a",
   "metadata": {},
   "source": [
    "- **Exporting scalers**"
   ]
  },
  {
   "cell_type": "code",
   "execution_count": 32,
   "id": "a553a5bd",
   "metadata": {},
   "outputs": [
    {
     "name": "stdout",
     "output_type": "stream",
     "text": [
      "Scaler data exported successfully!\n"
     ]
    }
   ],
   "source": [
    "# Extract mean and scale\n",
    "means = scaler_standard.mean_\n",
    "scales = scaler_standard.scale_\n",
    "\n",
    "# Create C header file content\n",
    "header_content = \"#ifndef STANDARD_SCALER_H\\n#define STANDARD_SCALER_H\\n\\n\"\n",
    "header_content += f\"#define NUM_FEATURES {len(means)}\\n\\n\"\n",
    "header_content += \"const float feature_means[NUM_FEATURES] = {\"\n",
    "header_content += \", \".join(f\"{mean:.6f}\" for mean in means)\n",
    "header_content += \"};\\n\\n\"\n",
    "header_content += \"const float feature_scales[NUM_FEATURES] = {\"\n",
    "header_content += \", \".join(f\"{scale:.6f}\" for scale in scales)\n",
    "header_content += \"};\\n\\n\"\n",
    "header_content += \"#endif // STANDARD_SCALER_H\"\n",
    "\n",
    "# Save to file\n",
    "with open(\"nano/scaler.h\", \"w\") as f:\n",
    "    f.write(header_content)\n",
    "\n",
    "print(\"Scaler data exported successfully!\")"
   ]
  },
  {
   "cell_type": "markdown",
   "id": "db92c1e5",
   "metadata": {},
   "source": [
    "- **Getting Model Parameters**"
   ]
  },
  {
   "cell_type": "code",
   "execution_count": 33,
   "id": "44d02c1d",
   "metadata": {},
   "outputs": [
    {
     "data": {
      "text/plain": [
       "array([[-0.07231306, -0.51272247, -0.20843424,  1.01152093, -0.74157944,\n",
       "        -0.78516759, -0.46830993, -0.38826401, -0.30137743,  0.13049945,\n",
       "        -0.87361571, -0.40064106, -0.72211966],\n",
       "       [-0.31996403, -0.38378535, -0.05715662, -0.55805843,  0.06556029,\n",
       "        -0.29501541, -0.29444673,  1.44490896, -0.14778379,  0.12490254,\n",
       "         0.21491687, -0.12351078,  0.71290429],\n",
       "       [ 0.82697897, -0.2272288 ,  0.65458496, -0.04268051,  0.07210485,\n",
       "        -0.20904325, -0.20052275, -0.48367506,  0.82987969, -0.29137203,\n",
       "         0.39828343,  0.36367483,  0.27998189],\n",
       "       [-0.24333738,  1.28577709, -0.01697832, -0.30784082, -0.03039887,\n",
       "        -0.4701533 ,  1.14611587, -0.51091371, -0.132217  ,  0.62062107,\n",
       "         0.08260762,  0.01698852,  0.21549012],\n",
       "       [-0.1913645 , -0.16204047, -0.37201578, -0.10294117,  0.63431317,\n",
       "         1.75937955, -0.18283646, -0.06205617, -0.24850148, -0.58465103,\n",
       "         0.17780779,  0.1434885 , -0.48625664]])"
      ]
     },
     "execution_count": 33,
     "metadata": {},
     "output_type": "execute_result"
    }
   ],
   "source": [
    "# getting coefficients\n",
    "final_model.coef_"
   ]
  },
  {
   "cell_type": "code",
   "execution_count": 34,
   "id": "d5a3e7a1",
   "metadata": {},
   "outputs": [
    {
     "data": {
      "text/plain": [
       "array([ 1.19165903, -1.06551768, -0.33707432,  0.19834431,  0.01258866])"
      ]
     },
     "execution_count": 34,
     "metadata": {},
     "output_type": "execute_result"
    }
   ],
   "source": [
    "# getting intercepts\n",
    "final_model.intercept_"
   ]
  },
  {
   "cell_type": "markdown",
   "id": "1b55c871",
   "metadata": {},
   "source": [
    "# **Sample Testing**\n",
    "---"
   ]
  },
  {
   "cell_type": "markdown",
   "id": "dfe1b085",
   "metadata": {},
   "source": [
    "- **Getting input features to test**"
   ]
  },
  {
   "cell_type": "code",
   "execution_count": 35,
   "id": "a59268a2",
   "metadata": {},
   "outputs": [
    {
     "data": {
      "text/plain": [
       "array([[-4.57449730e-04,  2.61108691e+00,  1.19540483e-01, ...,\n",
       "         9.47326436e-01, -1.88326894e-01,  1.23886451e+00],\n",
       "       [-6.09918703e-01, -4.97211212e-01, -4.85187004e-02, ...,\n",
       "        -1.25404340e+00, -6.23219613e-01, -8.82771277e-01],\n",
       "       [-5.42525231e-01,  2.50419391e+00, -8.12367496e-01, ...,\n",
       "         7.98614282e-01,  1.19124258e+00,  7.72900999e-01],\n",
       "       ...,\n",
       "       [ 2.03998546e+00, -4.97211212e-01,  1.58371060e+00, ...,\n",
       "         1.53101365e+00,  1.99665864e+00,  8.02987107e-01],\n",
       "       [-2.72912222e-01, -4.97211212e-01,  3.31347657e-01, ...,\n",
       "        -1.25404340e+00, -7.44542838e-01,  8.79515846e-02],\n",
       "       [ 2.11187930e+00, -4.97211212e-01,  1.84318994e+00, ...,\n",
       "         1.01916990e+00,  9.45576404e-01,  1.21638291e+00]],\n",
       "      shape=(81, 13))"
      ]
     },
     "execution_count": 35,
     "metadata": {},
     "output_type": "execute_result"
    }
   ],
   "source": [
    "selected_features = top_100_features[:13]\n",
    "test_values = X_cv[selected_features].values\n",
    "test_values"
   ]
  },
  {
   "cell_type": "code",
   "execution_count": 36,
   "id": "77200973",
   "metadata": {},
   "outputs": [
    {
     "name": "stdout",
     "output_type": "stream",
     "text": [
      "-0.000457, 2.611087, 0.119540, -1.095027, 0.799622, -0.590265, 2.714801, -0.143454, 0.623547, 1.823548, 0.947326, -0.188327, 1.238865\n"
     ]
    }
   ],
   "source": [
    "csv_output = \", \".join([f\"{x:.6f}\" for x in np.round(test_values[0], 6)])\n",
    "print(csv_output)"
   ]
  },
  {
   "cell_type": "markdown",
   "id": "1e5ff7ec",
   "metadata": {},
   "source": [
    "- **Getting output features**"
   ]
  },
  {
   "cell_type": "code",
   "execution_count": 37,
   "id": "727ec4db",
   "metadata": {},
   "outputs": [
    {
     "data": {
      "text/plain": [
       "np.int64(3)"
      ]
     },
     "execution_count": 37,
     "metadata": {},
     "output_type": "execute_result"
    }
   ],
   "source": [
    "y_cv[0]"
   ]
  },
  {
   "cell_type": "markdown",
   "id": "21974b8a",
   "metadata": {},
   "source": [
    "# **TinyML Model Size Comparision**\n",
    "---"
   ]
  },
  {
   "cell_type": "markdown",
   "id": "79c901cf",
   "metadata": {},
   "source": [
    "- When the model gets converted to an **`Embedded`** friendly environment, all the parameters need to be exported from the **`Python`** model. Additionally we will need encoders-decoders, scalers and even a parser to parse the input in required format. All these files add extra size to the model!"
   ]
  },
  {
   "cell_type": "code",
   "execution_count": 47,
   "id": "530709a9",
   "metadata": {},
   "outputs": [
    {
     "data": {
      "image/png": "[encoded data removed]",
      "text/plain": [
       "<Figure size 500x400 with 1 Axes>"
      ]
     },
     "metadata": {},
     "output_type": "display_data"
    }
   ],
   "source": [
    "# Calculate model sizes\n",
    "model_sizes = {\n",
    "    \"Python\": get_model_size(final_model, \"model1\"),\n",
    "    \"Embedded C\": os.path.getsize(\"nano/model.h\") / 1024,\n",
    "}\n",
    "\n",
    "# Plot model sizes\n",
    "plt.figure(figsize=(5, 4))\n",
    "plt.bar(model_sizes.keys(), model_sizes.values(), color=['blue', 'red'])\n",
    "plt.ylabel(\"Size (KB)\")\n",
    "plt.title(\"Model Size Comparison\")\n",
    "plt.ylim(0,3)\n",
    "\n",
    "for i, size in enumerate(model_sizes.values()):\n",
    "    plt.text(i, size + 0.05, f\"{size:.2f} kB\", ha='center', fontsize=10)\n",
    "    \n",
    "plt.show()"
   ]
  },
  {
   "cell_type": "code",
   "execution_count": 63,
   "id": "0079c897",
   "metadata": {},
   "outputs": [
    {
     "data": {
      "image/png": "[encoded data removed]",
      "text/plain": [
       "<Figure size 700x300 with 1 Axes>"
      ]
     },
     "metadata": {},
     "output_type": "display_data"
    }
   ],
   "source": [
    "import os\n",
    "import matplotlib.pyplot as plt\n",
    "\n",
    "# Calculate model sizes\n",
    "model_sizes = {\n",
    "    \"Encoder\": os.path.getsize(\"nano/encoder.h\") / 1024,\n",
    "    \"Scaler\": os.path.getsize(\"nano/scaler.h\") / 1024,\n",
    "    \"Parser\": os.path.getsize(\"nano/parser.h\") / 1024,\n",
    "    \"Main\": os.path.getsize(\"nano/nano.ino\") / 1024,\n",
    "    \"Model\": os.path.getsize(\"nano/model.h\") / 1024,\n",
    "}\n",
    "\n",
    "# Define colors for each segment\n",
    "colors = ['blue', 'red', 'green', 'purple', 'orange']\n",
    "\n",
    "# Create a horizontal stacked bar chart\n",
    "plt.figure(figsize=(7, 3))  # Wider figure for better visibility\n",
    "\n",
    "left = 0  # Initial position for stacking\n",
    "for (label, size), color in zip(model_sizes.items(), colors):\n",
    "    plt.barh(\"Total Size\", size, left=left, color=color, label=label)\n",
    "    left += size  # Update left position for stacking\n",
    "\n",
    "# Display the total size at the rightmost end of the bar\n",
    "total_size = sum(model_sizes.values())\n",
    "plt.text(left + 0.1, 0, f\"{total_size:.2f} KB\", va='center', fontsize=10)\n",
    "\n",
    "plt.xlabel(\"Size (KB)\")\n",
    "plt.title(\"TinyML File Sizes\", fontweight = 'bold')\n",
    "plt.legend(loc=\"center left\", bbox_to_anchor=(1, 0.5))  # Place legend outside\n",
    "plt.xlim(0,6)\n",
    "plt.show()\n"
   ]
  },
  {
   "cell_type": "markdown",
   "id": "25a43b3e",
   "metadata": {},
   "source": [
    "- **Even with so much of additional data to handle, when the entire program gets finally compiled to `Arduino NANO`, the following percentage of space is taken up!**"
   ]
  },
  {
   "cell_type": "code",
   "execution_count": 66,
   "id": "f9199f92",
   "metadata": {},
   "outputs": [
    {
     "data": {
      "image/png": "[encoded data removed]",
      "text/plain": [
       "<Figure size 400x300 with 1 Axes>"
      ]
     },
     "metadata": {},
     "output_type": "display_data"
    }
   ],
   "source": [
    "# Summarizing ML Model Accuracies\n",
    "model_size = {\"Program\\nStorage \\nSpace  \": 27, \"Dynamic\\nMemory \": 37}\n",
    "\n",
    "# Define the total capacity for each category\n",
    "total_capacity = 100\n",
    "\n",
    "### Plotting model accuracies\n",
    "plt.figure(figsize=(4, 3))\n",
    "\n",
    "# Plotting the light blue bars representing 100% capacity with a border\n",
    "total_bars = plt.barh(list(model_size.keys()), \n",
    "                      [total_capacity] * len(model_size), \n",
    "                      color='white', \n",
    "                      edgecolor='black',  # Adding the border color\n",
    "                      linewidth=1)            # Setting the border thickness\n",
    "\n",
    "# Plotting the actual data bars on top in blue\n",
    "bars = plt.barh(list(model_size.keys()), list(model_size.values()))\n",
    "\n",
    "# Adding annotations inside the blue bars\n",
    "for bar in bars:\n",
    "    width = bar.get_width()\n",
    "    plt.text(width - 15, bar.get_y() + bar.get_height() / 2,\n",
    "             '{:.2f}'.format(round(width, 2)),\n",
    "             ha='center', va='center', color='white', fontweight='bold')\n",
    "\n",
    "plt.ylabel('Memory', fontweight='bold')\n",
    "plt.xlabel('Space Occupied(%)', fontweight='bold')\n",
    "plt.title('Space Occupied in Arduino Nano', fontweight='bold')\n",
    "plt.xlim(0, 110)\n",
    "plt.xticks([0, 20, 40, 60, 80, 100])\n",
    "plt.show()"
   ]
  },
  {
   "cell_type": "markdown",
   "id": "6cbdbd97",
   "metadata": {},
   "source": [
    "---"
   ]
  }
 ],
 "metadata": {
  "kaggle": {
   "accelerator": "none",
   "dataSources": [
    {
     "datasetId": 6956941,
     "sourceId": 11150895,
     "sourceType": "datasetVersion"
    }
   ],
   "dockerImageVersionId": 30918,
   "isGpuEnabled": false,
   "isInternetEnabled": true,
   "language": "python",
   "sourceType": "notebook"
  },
  "kernelspec": {
   "display_name": "base",
   "language": "python",
   "name": "python3"
  },
  "language_info": {
   "codemirror_mode": {
    "name": "ipython",
    "version": 3
   },
   "file_extension": ".py",
   "mimetype": "text/x-python",
   "name": "python",
   "nbconvert_exporter": "python",
   "pygments_lexer": "ipython3",
   "version": "3.12.9"
  },
  "papermill": {
   "default_parameters": {},
   "duration": 121.58401,
   "end_time": "2025-03-31T12:45:13.534685",
   "environment_variables": {},
   "exception": null,
   "input_path": "__notebook__.ipynb",
   "output_path": "__notebook__.ipynb",
   "parameters": {},
   "start_time": "2025-03-31T12:43:11.950675",
   "version": "2.6.0"
  }
 },
 "nbformat": 4,
 "nbformat_minor": 5
}
